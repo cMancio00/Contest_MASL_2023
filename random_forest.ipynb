{
 "cells": [
  {
   "cell_type": "code",
   "execution_count": 69,
   "id": "initial_id",
   "metadata": {
    "collapsed": true,
    "ExecuteTime": {
     "end_time": "2023-11-26T14:08:52.717766100Z",
     "start_time": "2023-11-26T14:08:52.346692200Z"
    }
   },
   "outputs": [],
   "source": [
    "import sys\n",
    "\n",
    "import pandas as pd\n",
    "import numpy as np\n",
    "df = pd.read_excel(\"Data/S1%20File.xlsx\")\n",
    "#Rimozione colonne inutili e valori nulli\n",
    "df.drop(columns=[\"Average weekday\", \"Average weekend day\"], inplace=True)\n",
    "df.dropna(inplace=True)\n",
    "\n",
    "#Lista ordine delle colonne\n",
    "columns_order = df.columns\n",
    "\n",
    "#Cambio del valore in Genere 1:Maschio 0:Femmina\n",
    "df[\"Gender\"] = np.where(df[\"Gender\"] == 2, 1,0)\n",
    "\n",
    "#Normalizzazione\n",
    "gender = df[\"Gender\"]\n",
    "id_no = df[\"ID No\"]\n",
    "df.drop(columns=[\"Gender\", \"ID No\"], inplace=True)\n",
    "\n",
    "df = (df - df.mean())/df.std()\n",
    "df[\"Gender\"] = gender\n",
    "#df[\"ID No\"] = id_no\n",
    "\n",
    "#df = df[columns_order]\n",
    "df.reset_index(drop=True, inplace=True)"
   ]
  },
  {
   "cell_type": "code",
   "execution_count": 81,
   "outputs": [
    {
     "data": {
      "text/plain": "         Age  Height (m)  Weight (kgs)       BMI  working hours per week  \\\n63  0.455007    1.395743      1.776883  0.592587                0.180008   \n60 -1.414705    1.322320      1.507029  0.856802                0.180008   \n4  -0.904784   -0.836788      0.653943  2.166780                0.402345   \n24  1.049915   -0.834096      1.263291  0.605222                1.152733   \n37 -0.904784   -0.836910     -1.261148 -0.398136               -0.375835   \n61 -0.649823    1.108172      1.010847  2.119164                0.735851   \n47 -0.054915    1.255016      0.775813  0.563230                0.735851   \n45 -0.394862    1.089816      0.244810  1.267804                0.180008   \n3   0.030072   -0.836910     -1.087049 -0.153747               -1.265184   \n38  1.559837    1.268477      0.357975  0.005442               -0.042330   \n22  0.539994   -0.836665     -1.208918 -0.503000               -1.042847   \n25 -1.584679   -0.833851     -0.216553 -1.111221               -1.487522   \n16  0.794954   -0.833484      1.872638  0.789372                0.735851   \n7  -0.309875   -0.833851     -0.129503 -1.020612                0.402345   \n49  1.049915    1.114290      0.732288  1.678805                0.180008   \n1  -0.224888   -0.834952      0.392795  0.266987               -2.432455   \n10 -0.139902   -0.835686     -1.783445 -1.863798                0.180008   \n9  -0.394862   -0.833728      1.002142  0.074432                0.291176   \n6  -0.054915   -0.836910      0.653943  2.290145                0.735851   \n2  -0.309875   -0.835319     -0.651801 -0.706255                1.013772   \n31  0.794954   -0.834463      0.218695 -0.269557                0.735851   \n12  1.049915   -0.835931     -0.825900 -0.512576               -0.598173   \n50 -0.734810    1.151001      0.897682  1.561376                0.180008   \n54 -0.054915    1.102053     -0.582161  0.034799                0.180008   \n40 -0.054915    1.218305     -1.034819 -1.315634                0.180008   \n\n          RP        RE        BP        MH        VT  ...  Time standing (h)  \\\n63  0.430939  0.298681 -0.759624  1.192380  0.474568  ...          -0.527279   \n60  0.430939  0.298681  0.574851 -0.405655 -0.927564  ...          -1.082130   \n4   0.430939  0.298681  0.574851  1.192380  0.474568  ...          -0.939225   \n24  0.430939  0.298681 -2.094098  1.192380  0.474568  ...          -0.346218   \n37 -2.517592  0.298681 -0.759624  0.393362 -2.329696  ...          -1.458714   \n61 -2.517592 -1.858457 -2.094098 -0.405655 -2.329696  ...          -0.583785   \n47  0.430939  0.298681  0.574851  0.393362  0.474568  ...           2.212342   \n45 -2.517592 -4.015595 -0.759624 -0.405655 -2.329696  ...           1.045770   \n3   0.430939  0.298681  0.574851 -0.405655  0.474568  ...          -0.064296   \n38 -1.043326 -1.858457  0.574851 -1.204672 -0.927564  ...          -0.716847   \n22  0.430939  0.298681  0.574851 -0.405655  0.474568  ...          -1.405854   \n25  0.430939  0.298681  0.574851  1.192380  1.876699  ...          -0.499938   \n16  0.430939  0.298681  0.574851  0.393362  1.876699  ...          -1.761293   \n7  -2.517592  0.298681 -2.094098  0.393362  0.474568  ...           1.935281   \n49 -2.517592  0.298681 -2.094098 -1.204672 -0.927564  ...           0.104857   \n1   0.430939  0.298681  0.574851  0.393362  0.474568  ...           2.101153   \n10  0.430939  0.298681 -0.759624  0.393362  0.474568  ...           0.850734   \n9   0.430939  0.298681  0.574851  0.393362  0.474568  ...           0.570027   \n6   0.430939  0.298681  0.574851 -2.003689 -0.927564  ...          -0.758406   \n2   0.430939  0.298681  0.574851 -2.003689 -0.927564  ...           1.337413   \n31  0.430939  0.298681 -0.759624  1.192380 -0.927564  ...           0.548154   \n12  0.430939  0.298681 -0.759624  0.393362 -0.927564  ...          -0.120194   \n50  0.430939  0.298681  0.574851 -0.405655 -0.927564  ...           0.521906   \n54  0.430939  0.298681  0.574851  0.393362  0.474568  ...           0.820354   \n40  0.430939  0.298681  0.574851  0.393362 -0.927564  ...           0.470869   \n\n    Time stepping (h)  Step count  Sit to stand transitions  Sitting only.1  \\\n63           1.902801    2.602256                 -0.440454        2.068476   \n60          -0.737280   -0.653695                 -1.120508        1.167586   \n4           -0.211143   -0.122643                 -0.604605       -0.075599   \n24          -0.438908   -0.416609                  0.122350        0.646792   \n37          -0.958496   -0.776657                 -0.241128        0.424195   \n61          -1.099426   -1.258084                 -0.757031       -0.167998   \n47           3.188250    2.682414                 -0.686680       -1.547682   \n45          -0.275201   -0.128539                 -1.085333       -1.665281   \n3           -0.080178   -0.122112                  0.935288        0.825290   \n38          -0.095837    0.381572                 -0.276303       -0.892490   \n22          -0.740696   -0.360090                 -0.018351        1.612781   \n25           0.211646    0.393684                 -0.897732        0.062999   \n16          -0.159895   -0.217462                  0.216150        1.188586   \n7            0.143317   -0.263039                  1.165881       -0.201598   \n49           0.192002    0.415420                 -0.393554        0.665692   \n1            2.596061    1.326365                  1.263590        0.375896   \n10          -1.432532   -1.630828                 -0.440454       -1.253685   \n9           -0.399049   -0.467817                  0.591353       -0.560693   \n6           -0.532291   -0.454813                  1.144776        0.602693   \n2            0.186023    0.013610                 -0.909457       -0.810591   \n31          -0.787673   -1.007570                  0.040274        0.913489   \n12          -0.216837   -0.535811                 -0.684335       -0.774891   \n50           0.960708    1.125274                  0.638253       -0.069299   \n54          -0.063095    0.200858                  0.122350       -0.951289   \n40          -0.460545   -0.528374                 -0.909457       -0.680392   \n\n    Time standing (h).1  Time stepping (h).1  Step count.1  \\\n63            -0.761733             0.043624      0.641914   \n60            -1.207910            -1.287030     -1.064856   \n4             -0.095062             2.982151      3.196950   \n24            -1.685215            -2.094927     -1.954963   \n37            -1.039296            -0.827637     -0.894267   \n61            -0.613872             0.542619      0.387055   \n47             0.496381             0.336685      0.523116   \n45             0.888083             1.936637      1.851255   \n3             -1.236444            -1.738502     -1.653287   \n38             0.229194             0.590143      0.292543   \n22            -1.594423            -1.215745     -0.543725   \n25            -0.328526            -0.083105     -0.321930   \n16            -1.853828            -1.001890     -0.890463   \n7              0.932182             0.202035      0.193935   \n49            -0.606090            -0.067264     -0.251997   \n1              0.501570             0.716871     -0.026983   \n10             2.281088             1.009932      0.436798   \n9              0.893271             1.152502      0.718577   \n6             -0.722822            -0.827637     -0.898656   \n2              0.169531            -0.059343      0.191886   \n31            -0.395972            -1.667217     -1.638071   \n12             0.211036            -0.083105     -0.034883   \n50            -0.600902            -0.708829     -0.488715   \n54             1.342042             0.312923     -0.004452   \n40             1.155270            -0.550418     -0.918553   \n\n    Sit to stand transitions.1  Gender  \n63                   -0.056801       0  \n60                   -0.979825       1  \n4                     0.641703       0  \n24                   -1.129504       0  \n37                    0.018038       1  \n61                   -0.904985       1  \n47                   -0.431000       0  \n45                   -0.381107       1  \n3                    -0.605626       1  \n38                    0.042985       1  \n22                    0.217611       1  \n25                    0.342344       0  \n16                    0.841275       0  \n7                     1.215474       0  \n49                   -0.830145       1  \n1                     1.115688       1  \n10                   -0.231428       1  \n9                     1.564726       0  \n6                     1.714406       1  \n2                    -1.004772       0  \n31                   -0.830145       1  \n12                   -0.331214       1  \n50                    0.217611       1  \n54                    1.015902       1  \n40                    0.217611       1  \n\n[25 rows x 24 columns]",
      "text/html": "<div>\n<style scoped>\n    .dataframe tbody tr th:only-of-type {\n        vertical-align: middle;\n    }\n\n    .dataframe tbody tr th {\n        vertical-align: top;\n    }\n\n    .dataframe thead th {\n        text-align: right;\n    }\n</style>\n<table border=\"1\" class=\"dataframe\">\n  <thead>\n    <tr style=\"text-align: right;\">\n      <th></th>\n      <th>Age</th>\n      <th>Height (m)</th>\n      <th>Weight (kgs)</th>\n      <th>BMI</th>\n      <th>working hours per week</th>\n      <th>RP</th>\n      <th>RE</th>\n      <th>BP</th>\n      <th>MH</th>\n      <th>VT</th>\n      <th>...</th>\n      <th>Time standing (h)</th>\n      <th>Time stepping (h)</th>\n      <th>Step count</th>\n      <th>Sit to stand transitions</th>\n      <th>Sitting only.1</th>\n      <th>Time standing (h).1</th>\n      <th>Time stepping (h).1</th>\n      <th>Step count.1</th>\n      <th>Sit to stand transitions.1</th>\n      <th>Gender</th>\n    </tr>\n  </thead>\n  <tbody>\n    <tr>\n      <th>63</th>\n      <td>0.455007</td>\n      <td>1.395743</td>\n      <td>1.776883</td>\n      <td>0.592587</td>\n      <td>0.180008</td>\n      <td>0.430939</td>\n      <td>0.298681</td>\n      <td>-0.759624</td>\n      <td>1.192380</td>\n      <td>0.474568</td>\n      <td>...</td>\n      <td>-0.527279</td>\n      <td>1.902801</td>\n      <td>2.602256</td>\n      <td>-0.440454</td>\n      <td>2.068476</td>\n      <td>-0.761733</td>\n      <td>0.043624</td>\n      <td>0.641914</td>\n      <td>-0.056801</td>\n      <td>0</td>\n    </tr>\n    <tr>\n      <th>60</th>\n      <td>-1.414705</td>\n      <td>1.322320</td>\n      <td>1.507029</td>\n      <td>0.856802</td>\n      <td>0.180008</td>\n      <td>0.430939</td>\n      <td>0.298681</td>\n      <td>0.574851</td>\n      <td>-0.405655</td>\n      <td>-0.927564</td>\n      <td>...</td>\n      <td>-1.082130</td>\n      <td>-0.737280</td>\n      <td>-0.653695</td>\n      <td>-1.120508</td>\n      <td>1.167586</td>\n      <td>-1.207910</td>\n      <td>-1.287030</td>\n      <td>-1.064856</td>\n      <td>-0.979825</td>\n      <td>1</td>\n    </tr>\n    <tr>\n      <th>4</th>\n      <td>-0.904784</td>\n      <td>-0.836788</td>\n      <td>0.653943</td>\n      <td>2.166780</td>\n      <td>0.402345</td>\n      <td>0.430939</td>\n      <td>0.298681</td>\n      <td>0.574851</td>\n      <td>1.192380</td>\n      <td>0.474568</td>\n      <td>...</td>\n      <td>-0.939225</td>\n      <td>-0.211143</td>\n      <td>-0.122643</td>\n      <td>-0.604605</td>\n      <td>-0.075599</td>\n      <td>-0.095062</td>\n      <td>2.982151</td>\n      <td>3.196950</td>\n      <td>0.641703</td>\n      <td>0</td>\n    </tr>\n    <tr>\n      <th>24</th>\n      <td>1.049915</td>\n      <td>-0.834096</td>\n      <td>1.263291</td>\n      <td>0.605222</td>\n      <td>1.152733</td>\n      <td>0.430939</td>\n      <td>0.298681</td>\n      <td>-2.094098</td>\n      <td>1.192380</td>\n      <td>0.474568</td>\n      <td>...</td>\n      <td>-0.346218</td>\n      <td>-0.438908</td>\n      <td>-0.416609</td>\n      <td>0.122350</td>\n      <td>0.646792</td>\n      <td>-1.685215</td>\n      <td>-2.094927</td>\n      <td>-1.954963</td>\n      <td>-1.129504</td>\n      <td>0</td>\n    </tr>\n    <tr>\n      <th>37</th>\n      <td>-0.904784</td>\n      <td>-0.836910</td>\n      <td>-1.261148</td>\n      <td>-0.398136</td>\n      <td>-0.375835</td>\n      <td>-2.517592</td>\n      <td>0.298681</td>\n      <td>-0.759624</td>\n      <td>0.393362</td>\n      <td>-2.329696</td>\n      <td>...</td>\n      <td>-1.458714</td>\n      <td>-0.958496</td>\n      <td>-0.776657</td>\n      <td>-0.241128</td>\n      <td>0.424195</td>\n      <td>-1.039296</td>\n      <td>-0.827637</td>\n      <td>-0.894267</td>\n      <td>0.018038</td>\n      <td>1</td>\n    </tr>\n    <tr>\n      <th>61</th>\n      <td>-0.649823</td>\n      <td>1.108172</td>\n      <td>1.010847</td>\n      <td>2.119164</td>\n      <td>0.735851</td>\n      <td>-2.517592</td>\n      <td>-1.858457</td>\n      <td>-2.094098</td>\n      <td>-0.405655</td>\n      <td>-2.329696</td>\n      <td>...</td>\n      <td>-0.583785</td>\n      <td>-1.099426</td>\n      <td>-1.258084</td>\n      <td>-0.757031</td>\n      <td>-0.167998</td>\n      <td>-0.613872</td>\n      <td>0.542619</td>\n      <td>0.387055</td>\n      <td>-0.904985</td>\n      <td>1</td>\n    </tr>\n    <tr>\n      <th>47</th>\n      <td>-0.054915</td>\n      <td>1.255016</td>\n      <td>0.775813</td>\n      <td>0.563230</td>\n      <td>0.735851</td>\n      <td>0.430939</td>\n      <td>0.298681</td>\n      <td>0.574851</td>\n      <td>0.393362</td>\n      <td>0.474568</td>\n      <td>...</td>\n      <td>2.212342</td>\n      <td>3.188250</td>\n      <td>2.682414</td>\n      <td>-0.686680</td>\n      <td>-1.547682</td>\n      <td>0.496381</td>\n      <td>0.336685</td>\n      <td>0.523116</td>\n      <td>-0.431000</td>\n      <td>0</td>\n    </tr>\n    <tr>\n      <th>45</th>\n      <td>-0.394862</td>\n      <td>1.089816</td>\n      <td>0.244810</td>\n      <td>1.267804</td>\n      <td>0.180008</td>\n      <td>-2.517592</td>\n      <td>-4.015595</td>\n      <td>-0.759624</td>\n      <td>-0.405655</td>\n      <td>-2.329696</td>\n      <td>...</td>\n      <td>1.045770</td>\n      <td>-0.275201</td>\n      <td>-0.128539</td>\n      <td>-1.085333</td>\n      <td>-1.665281</td>\n      <td>0.888083</td>\n      <td>1.936637</td>\n      <td>1.851255</td>\n      <td>-0.381107</td>\n      <td>1</td>\n    </tr>\n    <tr>\n      <th>3</th>\n      <td>0.030072</td>\n      <td>-0.836910</td>\n      <td>-1.087049</td>\n      <td>-0.153747</td>\n      <td>-1.265184</td>\n      <td>0.430939</td>\n      <td>0.298681</td>\n      <td>0.574851</td>\n      <td>-0.405655</td>\n      <td>0.474568</td>\n      <td>...</td>\n      <td>-0.064296</td>\n      <td>-0.080178</td>\n      <td>-0.122112</td>\n      <td>0.935288</td>\n      <td>0.825290</td>\n      <td>-1.236444</td>\n      <td>-1.738502</td>\n      <td>-1.653287</td>\n      <td>-0.605626</td>\n      <td>1</td>\n    </tr>\n    <tr>\n      <th>38</th>\n      <td>1.559837</td>\n      <td>1.268477</td>\n      <td>0.357975</td>\n      <td>0.005442</td>\n      <td>-0.042330</td>\n      <td>-1.043326</td>\n      <td>-1.858457</td>\n      <td>0.574851</td>\n      <td>-1.204672</td>\n      <td>-0.927564</td>\n      <td>...</td>\n      <td>-0.716847</td>\n      <td>-0.095837</td>\n      <td>0.381572</td>\n      <td>-0.276303</td>\n      <td>-0.892490</td>\n      <td>0.229194</td>\n      <td>0.590143</td>\n      <td>0.292543</td>\n      <td>0.042985</td>\n      <td>1</td>\n    </tr>\n    <tr>\n      <th>22</th>\n      <td>0.539994</td>\n      <td>-0.836665</td>\n      <td>-1.208918</td>\n      <td>-0.503000</td>\n      <td>-1.042847</td>\n      <td>0.430939</td>\n      <td>0.298681</td>\n      <td>0.574851</td>\n      <td>-0.405655</td>\n      <td>0.474568</td>\n      <td>...</td>\n      <td>-1.405854</td>\n      <td>-0.740696</td>\n      <td>-0.360090</td>\n      <td>-0.018351</td>\n      <td>1.612781</td>\n      <td>-1.594423</td>\n      <td>-1.215745</td>\n      <td>-0.543725</td>\n      <td>0.217611</td>\n      <td>1</td>\n    </tr>\n    <tr>\n      <th>25</th>\n      <td>-1.584679</td>\n      <td>-0.833851</td>\n      <td>-0.216553</td>\n      <td>-1.111221</td>\n      <td>-1.487522</td>\n      <td>0.430939</td>\n      <td>0.298681</td>\n      <td>0.574851</td>\n      <td>1.192380</td>\n      <td>1.876699</td>\n      <td>...</td>\n      <td>-0.499938</td>\n      <td>0.211646</td>\n      <td>0.393684</td>\n      <td>-0.897732</td>\n      <td>0.062999</td>\n      <td>-0.328526</td>\n      <td>-0.083105</td>\n      <td>-0.321930</td>\n      <td>0.342344</td>\n      <td>0</td>\n    </tr>\n    <tr>\n      <th>16</th>\n      <td>0.794954</td>\n      <td>-0.833484</td>\n      <td>1.872638</td>\n      <td>0.789372</td>\n      <td>0.735851</td>\n      <td>0.430939</td>\n      <td>0.298681</td>\n      <td>0.574851</td>\n      <td>0.393362</td>\n      <td>1.876699</td>\n      <td>...</td>\n      <td>-1.761293</td>\n      <td>-0.159895</td>\n      <td>-0.217462</td>\n      <td>0.216150</td>\n      <td>1.188586</td>\n      <td>-1.853828</td>\n      <td>-1.001890</td>\n      <td>-0.890463</td>\n      <td>0.841275</td>\n      <td>0</td>\n    </tr>\n    <tr>\n      <th>7</th>\n      <td>-0.309875</td>\n      <td>-0.833851</td>\n      <td>-0.129503</td>\n      <td>-1.020612</td>\n      <td>0.402345</td>\n      <td>-2.517592</td>\n      <td>0.298681</td>\n      <td>-2.094098</td>\n      <td>0.393362</td>\n      <td>0.474568</td>\n      <td>...</td>\n      <td>1.935281</td>\n      <td>0.143317</td>\n      <td>-0.263039</td>\n      <td>1.165881</td>\n      <td>-0.201598</td>\n      <td>0.932182</td>\n      <td>0.202035</td>\n      <td>0.193935</td>\n      <td>1.215474</td>\n      <td>0</td>\n    </tr>\n    <tr>\n      <th>49</th>\n      <td>1.049915</td>\n      <td>1.114290</td>\n      <td>0.732288</td>\n      <td>1.678805</td>\n      <td>0.180008</td>\n      <td>-2.517592</td>\n      <td>0.298681</td>\n      <td>-2.094098</td>\n      <td>-1.204672</td>\n      <td>-0.927564</td>\n      <td>...</td>\n      <td>0.104857</td>\n      <td>0.192002</td>\n      <td>0.415420</td>\n      <td>-0.393554</td>\n      <td>0.665692</td>\n      <td>-0.606090</td>\n      <td>-0.067264</td>\n      <td>-0.251997</td>\n      <td>-0.830145</td>\n      <td>1</td>\n    </tr>\n    <tr>\n      <th>1</th>\n      <td>-0.224888</td>\n      <td>-0.834952</td>\n      <td>0.392795</td>\n      <td>0.266987</td>\n      <td>-2.432455</td>\n      <td>0.430939</td>\n      <td>0.298681</td>\n      <td>0.574851</td>\n      <td>0.393362</td>\n      <td>0.474568</td>\n      <td>...</td>\n      <td>2.101153</td>\n      <td>2.596061</td>\n      <td>1.326365</td>\n      <td>1.263590</td>\n      <td>0.375896</td>\n      <td>0.501570</td>\n      <td>0.716871</td>\n      <td>-0.026983</td>\n      <td>1.115688</td>\n      <td>1</td>\n    </tr>\n    <tr>\n      <th>10</th>\n      <td>-0.139902</td>\n      <td>-0.835686</td>\n      <td>-1.783445</td>\n      <td>-1.863798</td>\n      <td>0.180008</td>\n      <td>0.430939</td>\n      <td>0.298681</td>\n      <td>-0.759624</td>\n      <td>0.393362</td>\n      <td>0.474568</td>\n      <td>...</td>\n      <td>0.850734</td>\n      <td>-1.432532</td>\n      <td>-1.630828</td>\n      <td>-0.440454</td>\n      <td>-1.253685</td>\n      <td>2.281088</td>\n      <td>1.009932</td>\n      <td>0.436798</td>\n      <td>-0.231428</td>\n      <td>1</td>\n    </tr>\n    <tr>\n      <th>9</th>\n      <td>-0.394862</td>\n      <td>-0.833728</td>\n      <td>1.002142</td>\n      <td>0.074432</td>\n      <td>0.291176</td>\n      <td>0.430939</td>\n      <td>0.298681</td>\n      <td>0.574851</td>\n      <td>0.393362</td>\n      <td>0.474568</td>\n      <td>...</td>\n      <td>0.570027</td>\n      <td>-0.399049</td>\n      <td>-0.467817</td>\n      <td>0.591353</td>\n      <td>-0.560693</td>\n      <td>0.893271</td>\n      <td>1.152502</td>\n      <td>0.718577</td>\n      <td>1.564726</td>\n      <td>0</td>\n    </tr>\n    <tr>\n      <th>6</th>\n      <td>-0.054915</td>\n      <td>-0.836910</td>\n      <td>0.653943</td>\n      <td>2.290145</td>\n      <td>0.735851</td>\n      <td>0.430939</td>\n      <td>0.298681</td>\n      <td>0.574851</td>\n      <td>-2.003689</td>\n      <td>-0.927564</td>\n      <td>...</td>\n      <td>-0.758406</td>\n      <td>-0.532291</td>\n      <td>-0.454813</td>\n      <td>1.144776</td>\n      <td>0.602693</td>\n      <td>-0.722822</td>\n      <td>-0.827637</td>\n      <td>-0.898656</td>\n      <td>1.714406</td>\n      <td>1</td>\n    </tr>\n    <tr>\n      <th>2</th>\n      <td>-0.309875</td>\n      <td>-0.835319</td>\n      <td>-0.651801</td>\n      <td>-0.706255</td>\n      <td>1.013772</td>\n      <td>0.430939</td>\n      <td>0.298681</td>\n      <td>0.574851</td>\n      <td>-2.003689</td>\n      <td>-0.927564</td>\n      <td>...</td>\n      <td>1.337413</td>\n      <td>0.186023</td>\n      <td>0.013610</td>\n      <td>-0.909457</td>\n      <td>-0.810591</td>\n      <td>0.169531</td>\n      <td>-0.059343</td>\n      <td>0.191886</td>\n      <td>-1.004772</td>\n      <td>0</td>\n    </tr>\n    <tr>\n      <th>31</th>\n      <td>0.794954</td>\n      <td>-0.834463</td>\n      <td>0.218695</td>\n      <td>-0.269557</td>\n      <td>0.735851</td>\n      <td>0.430939</td>\n      <td>0.298681</td>\n      <td>-0.759624</td>\n      <td>1.192380</td>\n      <td>-0.927564</td>\n      <td>...</td>\n      <td>0.548154</td>\n      <td>-0.787673</td>\n      <td>-1.007570</td>\n      <td>0.040274</td>\n      <td>0.913489</td>\n      <td>-0.395972</td>\n      <td>-1.667217</td>\n      <td>-1.638071</td>\n      <td>-0.830145</td>\n      <td>1</td>\n    </tr>\n    <tr>\n      <th>12</th>\n      <td>1.049915</td>\n      <td>-0.835931</td>\n      <td>-0.825900</td>\n      <td>-0.512576</td>\n      <td>-0.598173</td>\n      <td>0.430939</td>\n      <td>0.298681</td>\n      <td>-0.759624</td>\n      <td>0.393362</td>\n      <td>-0.927564</td>\n      <td>...</td>\n      <td>-0.120194</td>\n      <td>-0.216837</td>\n      <td>-0.535811</td>\n      <td>-0.684335</td>\n      <td>-0.774891</td>\n      <td>0.211036</td>\n      <td>-0.083105</td>\n      <td>-0.034883</td>\n      <td>-0.331214</td>\n      <td>1</td>\n    </tr>\n    <tr>\n      <th>50</th>\n      <td>-0.734810</td>\n      <td>1.151001</td>\n      <td>0.897682</td>\n      <td>1.561376</td>\n      <td>0.180008</td>\n      <td>0.430939</td>\n      <td>0.298681</td>\n      <td>0.574851</td>\n      <td>-0.405655</td>\n      <td>-0.927564</td>\n      <td>...</td>\n      <td>0.521906</td>\n      <td>0.960708</td>\n      <td>1.125274</td>\n      <td>0.638253</td>\n      <td>-0.069299</td>\n      <td>-0.600902</td>\n      <td>-0.708829</td>\n      <td>-0.488715</td>\n      <td>0.217611</td>\n      <td>1</td>\n    </tr>\n    <tr>\n      <th>54</th>\n      <td>-0.054915</td>\n      <td>1.102053</td>\n      <td>-0.582161</td>\n      <td>0.034799</td>\n      <td>0.180008</td>\n      <td>0.430939</td>\n      <td>0.298681</td>\n      <td>0.574851</td>\n      <td>0.393362</td>\n      <td>0.474568</td>\n      <td>...</td>\n      <td>0.820354</td>\n      <td>-0.063095</td>\n      <td>0.200858</td>\n      <td>0.122350</td>\n      <td>-0.951289</td>\n      <td>1.342042</td>\n      <td>0.312923</td>\n      <td>-0.004452</td>\n      <td>1.015902</td>\n      <td>1</td>\n    </tr>\n    <tr>\n      <th>40</th>\n      <td>-0.054915</td>\n      <td>1.218305</td>\n      <td>-1.034819</td>\n      <td>-1.315634</td>\n      <td>0.180008</td>\n      <td>0.430939</td>\n      <td>0.298681</td>\n      <td>0.574851</td>\n      <td>0.393362</td>\n      <td>-0.927564</td>\n      <td>...</td>\n      <td>0.470869</td>\n      <td>-0.460545</td>\n      <td>-0.528374</td>\n      <td>-0.909457</td>\n      <td>-0.680392</td>\n      <td>1.155270</td>\n      <td>-0.550418</td>\n      <td>-0.918553</td>\n      <td>0.217611</td>\n      <td>1</td>\n    </tr>\n  </tbody>\n</table>\n<p>25 rows × 24 columns</p>\n</div>"
     },
     "execution_count": 81,
     "metadata": {},
     "output_type": "execute_result"
    }
   ],
   "source": [
    "from random import sample, seed\n",
    "#random forest per livello ansia, senza depressione.\n",
    "y_depression = df[\"Total Depression score\"]\n",
    "df_smaller = df.drop(columns=[\"Total anxiety score\", \"Total Depression score\"], inplace = False)\n",
    "\n",
    "seed(33)\n",
    "\n",
    "test_idx_depression = sample(range(0,df_smaller.shape[0]),20)\n",
    "test_depression = df_smaller.iloc[test_idx_depression]\n",
    "df_smaller.drop(df_smaller.index[test_idx_depression], inplace=True)\n",
    "#drop test from the training\n",
    "\n",
    "training_idx_depression = sample(range(0,df_smaller.shape[0]),25)\n",
    "training_depression = df_smaller.iloc[training_idx_depression]\n",
    "df_smaller.drop(df_smaller.index[training_idx_depression], inplace=True)\n",
    "\n",
    "validation_idx_depression = sample(range(0,df_smaller.shape[0]),20)\n",
    "validation_depression = df_smaller.iloc[validation_idx_depression]\n",
    "\n",
    "#y_depression.iloc[training_idx_depression]\n",
    "#training_depression\n",
    "#validation_depression\n",
    "#test_depression"
   ],
   "metadata": {
    "collapsed": false,
    "ExecuteTime": {
     "end_time": "2023-11-26T14:29:20.085784100Z",
     "start_time": "2023-11-26T14:29:20.085784100Z"
    }
   },
   "id": "ab68791bcba106d2"
  },
  {
   "cell_type": "code",
   "execution_count": 76,
   "outputs": [
    {
     "name": "stdout",
     "output_type": "stream",
     "text": [
      "0.7235547355473553\n",
      "0.6694880073800736\n",
      "0.5661404947382805\n",
      "0.5238864971983052\n",
      "0.5368880073800737\n",
      "0.5656678966789668\n",
      "0.5288489544895449\n",
      "0.5290292435424356\n",
      "0.5135960297936316\n",
      "0.5491715982472328\n"
     ]
    }
   ],
   "source": [
    "#crea la random forest per la depressione\n",
    "from sklearn.ensemble import RandomForestRegressor \n",
    "#TODO fare il validation per parametri B ed MTRY, questa è solo una prova...\n",
    "min_validation_error = sys.maxsize\n",
    "min_model = None\n",
    "list_n_trees = [10,20,30,60,100,125,150,200,300,400]\n",
    "for i in range(0,len(list_n_trees)):\n",
    "    rf = RandomForestRegressor(n_estimators=list_n_trees[i])\n",
    "    rf.fit(training_depression, y_depression.iloc[training_idx_depression])\n",
    "    y_predict_depression = rf.predict(validation_depression)\n",
    "    #Calcolo del validation error...\n",
    "    MSE = np.mean((y_depression.iloc[validation_idx_depression]-y_predict_depression)**2)\n",
    "    print(MSE)\n",
    "    if min_validation_error > MSE:\n",
    "        min_model = rf\n",
    "        min_validation_error = MSE\n",
    "\n",
    "\n"
   ],
   "metadata": {
    "collapsed": false,
    "ExecuteTime": {
     "end_time": "2023-11-26T14:15:32.931288600Z",
     "start_time": "2023-11-26T14:15:30.863574400Z"
    }
   },
   "id": "a368c9f318180434"
  },
  {
   "cell_type": "code",
   "execution_count": 66,
   "outputs": [],
   "source": [
    "from sklearn.ensemble import RandomForestRegressor \n",
    "from random import sample, seed\n",
    "#random forest per livello depressione, senza ansia.\n",
    "y_anxiety = df[\"Total anxiety score\"]\n",
    "df_anxiety = df.drop(columns=[\"Total anxiety score\", \"Total Depression score\"], inplace = False)\n",
    "\n",
    "seed(333)\n",
    "#TODO riprendere il test set precedente\n",
    "\n",
    "\n"
   ],
   "metadata": {
    "collapsed": false,
    "ExecuteTime": {
     "end_time": "2023-11-26T11:28:57.977291500Z",
     "start_time": "2023-11-26T11:28:57.961504300Z"
    }
   },
   "id": "738da117e3b848c1"
  }
 ],
 "metadata": {
  "kernelspec": {
   "display_name": "Python 3",
   "language": "python",
   "name": "python3"
  },
  "language_info": {
   "codemirror_mode": {
    "name": "ipython",
    "version": 2
   },
   "file_extension": ".py",
   "mimetype": "text/x-python",
   "name": "python",
   "nbconvert_exporter": "python",
   "pygments_lexer": "ipython2",
   "version": "2.7.6"
  }
 },
 "nbformat": 4,
 "nbformat_minor": 5
}
