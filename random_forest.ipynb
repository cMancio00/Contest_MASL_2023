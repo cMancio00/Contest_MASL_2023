{
 "cells": [
  {
   "cell_type": "code",
   "execution_count": 69,
   "id": "initial_id",
   "metadata": {
    "collapsed": true,
    "ExecuteTime": {
     "end_time": "2023-11-26T14:08:52.717766100Z",
     "start_time": "2023-11-26T14:08:52.346692200Z"
    }
   },
   "outputs": [],
   "source": [
    "import sys\n",
    "\n",
    "import pandas as pd\n",
    "import numpy as np\n",
    "df = pd.read_excel(\"Data/S1%20File.xlsx\")\n",
    "#Rimozione colonne inutili e valori nulli\n",
    "df.drop(columns=[\"Average weekday\", \"Average weekend day\"], inplace=True)\n",
    "df.dropna(inplace=True)\n",
    "\n",
    "#Lista ordine delle colonne\n",
    "columns_order = df.columns\n",
    "\n",
    "#Cambio del valore in Genere 1:Maschio 0:Femmina\n",
    "df[\"Gender\"] = np.where(df[\"Gender\"] == 2, 1,0)\n",
    "\n",
    "#Normalizzazione\n",
    "gender = df[\"Gender\"]\n",
    "id_no = df[\"ID No\"]\n",
    "df.drop(columns=[\"Gender\", \"ID No\"], inplace=True)\n",
    "\n",
    "df = (df - df.mean())/df.std()\n",
    "df[\"Gender\"] = gender\n",
    "#df[\"ID No\"] = id_no\n",
    "\n",
    "#df = df[columns_order]\n",
    "df.reset_index(drop=True, inplace=True)"
   ]
  },
  {
   "cell_type": "code",
   "execution_count": 72,
   "outputs": [
    {
     "data": {
      "text/plain": "         Age  Height (m)  Weight (kgs)       BMI  working hours per week  \\\n21 -1.329718   -0.834830     -0.129503 -0.416880               -0.375835   \n29  0.794954   -0.833239      1.611489  0.356721                1.625200   \n52  0.539994    1.279491      0.697468  0.299015                0.180008   \n53  1.389863    1.053105     -1.156688 -0.346845                0.180008   \n17 -1.584679   -0.833484      0.566894 -0.525563               -3.710894   \n30 -1.584679   -0.833239      1.002142 -0.243719                0.735851   \n41  0.879941    1.138764     -0.268782  0.181586                0.180008   \n56 -0.479849    1.181594      0.497254  0.798088                0.180008   \n34 -0.309875   -0.834732      0.044596 -0.284415                0.402345   \n33 -0.309875   -0.835075     -1.174098 -1.471461                0.068839   \n11 -0.054915   -0.833851      0.479844 -0.386350                0.735851   \n58  1.389863    1.169357     -0.973884 -0.904633                0.068839   \n39  1.729810    1.040868      0.183876  1.620091                0.180008   \n32 -0.309875   -0.836665     -1.261148 -0.574460                0.735851   \n20  1.644823   -0.835319      0.131646  0.229882                0.180008   \n43 -1.329718    1.212187     -1.766035 -2.108280                0.180008   \n55  0.964928    1.142435     -1.591936 -1.521135                0.180008   \n59  0.624981    1.102053      0.305745  1.238447                0.180008   \n28 -1.669666   -0.835075      0.131646  0.052272               -1.821027   \n18  0.794954   -0.834463      0.801928  0.372707                0.735851   \n49  1.049915    1.114290      0.732288  1.678805                0.180008   \n40 -0.054915    1.218305     -1.034819 -1.315634                0.180008   \n4  -0.904784   -0.836788      0.653943  2.166780                0.402345   \n19 -1.669666   -0.836665     -0.973884 -0.181426               -2.376870   \n26  2.324719   -0.832872      2.046737  0.527613                0.735851   \n\n          RP        RE        BP        MH        VT  ...  Time standing (h)  \\\n21  0.430939  0.298681  0.574851  1.192380  1.876699  ...          -1.746711   \n29  0.430939  0.298681 -0.759624  0.393362  0.474568  ...           0.103399   \n52  0.430939  0.298681  0.574851 -1.204672 -0.927564  ...           0.887918   \n53 -1.043326 -1.858457 -0.759624 -2.003689 -2.329696  ...           0.340359   \n17  0.430939  0.298681  0.574851 -0.405655  0.474568  ...           0.018822   \n30  0.430939  0.298681  0.574851 -1.204672 -0.927564  ...          -0.853555   \n41  0.430939  0.298681 -0.759624 -0.405655  0.474568  ...          -0.832775   \n56  0.430939  0.298681  0.574851 -1.204672  0.474568  ...          -1.836027   \n34  0.430939  0.298681  0.574851 -1.204672  1.876699  ...           0.194537   \n33  0.430939  0.298681  0.574851 -0.405655  0.474568  ...           1.760903   \n11  0.430939  0.298681  0.574851  0.393362  0.474568  ...          -0.321306   \n58  0.430939  0.298681  0.574851 -0.405655 -0.927564  ...          -0.717576   \n39  0.430939  0.298681  0.574851  1.192380  0.474568  ...          -0.058463   \n32  0.430939  0.298681  0.574851  1.192380  0.474568  ...           2.472998   \n20  0.430939  0.298681  0.574851  1.192380  0.474568  ...           0.389209   \n43  0.430939  0.298681  0.574851  0.393362  0.474568  ...          -0.040965   \n55  0.430939  0.298681  0.574851  0.393362  0.474568  ...          -0.005967   \n59 -1.043326  0.298681 -0.759624 -0.405655 -0.927564  ...          -1.277531   \n28  0.430939  0.298681  0.574851 -2.003689 -0.927564  ...          -0.417913   \n18  0.430939 -4.015595  0.574851 -0.405655  0.474568  ...          -1.358462   \n49 -2.517592  0.298681 -2.094098 -1.204672 -0.927564  ...           0.104857   \n40  0.430939  0.298681  0.574851  0.393362 -0.927564  ...           0.470869   \n4   0.430939  0.298681  0.574851  1.192380  0.474568  ...          -0.939225   \n19  0.430939  0.298681  0.574851  0.393362  0.474568  ...           1.008950   \n26  0.430939  0.298681  0.574851  1.192380  0.474568  ...          -0.332243   \n\n    Time stepping (h)  Step count  Sit to stand transitions  Sitting only.1  \\\n21          -0.932873   -0.664946                 -1.073608        0.989088   \n29           0.429447    0.292331                 -0.721856        1.784979   \n52          -0.450296   -0.439387                 -0.975117       -0.804291   \n53           0.015199   -0.121687                  0.180975       -1.085687   \n17          -0.819275   -0.858186                 -0.749996        0.447295   \n30          -1.201920   -1.193623                 -0.721856        1.742980   \n41          -0.655284   -0.547625                 -1.369080       -0.947089   \n56          -0.911520   -0.658837                 -0.893823       -0.482994   \n34          -0.095837   -0.143201                  0.849304        2.538870   \n33           0.637282    0.138389                  1.185423        0.705592   \n11          -0.399049   -0.301923                  0.227875       -0.405295   \n58           0.151004    0.322482                 -0.553015        0.590093   \n39          -0.566456   -0.615576                 -0.252853        0.875690   \n32           1.964013    1.510798                  2.279763       -0.203698   \n20          -1.290749   -1.482113                  0.394371        0.871490   \n43           0.130505    0.471260                 -1.078298       -0.006300   \n55          -0.437484   -0.497618                  1.025180       -0.249897   \n59          -0.419548   -0.247263                 -0.149672        0.692992   \n28          -0.685178   -0.792274                 -0.159052       -1.547682   \n18          -0.334990   -0.080572                 -1.228379       -1.787079   \n49           0.192002    0.415420                 -0.393554        0.665692   \n40          -0.460545   -0.528374                 -0.909457       -0.680392   \n4           -0.211143   -0.122643                 -0.604605       -0.075599   \n19          -1.215586   -1.280044                 -0.121532       -1.892078   \n26           0.950459    1.032399                  0.438927        0.569093   \n\n    Time standing (h).1  Time stepping (h).1  Step count.1  \\\n21            -0.725416             1.152502      1.844818   \n29            -0.844742            -1.065254     -1.007798   \n52             1.829723            -0.764273     -0.891048   \n53             0.799885             0.827759      0.511705   \n17            -0.121002             0.677269      0.650985   \n30            -1.262385            -1.841469     -1.748676   \n41            -0.408942             0.083227     -0.084041   \n56            -0.372625            -0.526656     -0.827845   \n34            -1.241632            -0.273198      0.355453   \n33             0.478223            -0.542497     -0.874077   \n11            -0.133973            -0.249437     -0.075555   \n58             0.294046            -0.439530     -0.687102   \n39            -0.629436            -0.970207     -0.874955   \n32             0.369273             0.605984      0.438553   \n20            -0.753951            -1.603852     -1.653579   \n43            -0.652783            -0.399927     -0.046002   \n55            -0.193636             0.035703      0.034172   \n59            -0.868089            -0.368245     -0.342705   \n28             1.754496             0.320844     -0.055073   \n18             1.497685             0.962409      0.750471   \n49            -0.606090            -0.067264     -0.251997   \n40             1.155270            -0.550418     -0.918553   \n4             -0.095062             2.982151      3.196950   \n19             1.134518             0.407970      1.006209   \n26            -0.271457             0.099068      0.286983   \n\n    Sit to stand transitions.1  Gender  \n21                   -0.555733       0  \n29                   -0.381107       0  \n52                   -1.104558       1  \n53                    0.966008       1  \n17                   -1.329077       0  \n30                   -0.954878       0  \n41                   -0.979825       1  \n56                    0.467077       1  \n34                   -0.231428       0  \n33                    1.514833       1  \n11                   -0.206481       0  \n58                   -0.106695       1  \n39                    0.217611       1  \n32                    1.165581       1  \n20                   -0.031855       0  \n43                   -1.104558       1  \n55                   -0.131641       1  \n59                   -0.356160       1  \n28                   -0.381107       1  \n18                   -1.229291       0  \n49                   -0.830145       1  \n40                    0.217611       1  \n4                     0.641703       0  \n19                   -1.129504       1  \n26                    0.067931       0  \n\n[25 rows x 24 columns]",
      "text/html": "<div>\n<style scoped>\n    .dataframe tbody tr th:only-of-type {\n        vertical-align: middle;\n    }\n\n    .dataframe tbody tr th {\n        vertical-align: top;\n    }\n\n    .dataframe thead th {\n        text-align: right;\n    }\n</style>\n<table border=\"1\" class=\"dataframe\">\n  <thead>\n    <tr style=\"text-align: right;\">\n      <th></th>\n      <th>Age</th>\n      <th>Height (m)</th>\n      <th>Weight (kgs)</th>\n      <th>BMI</th>\n      <th>working hours per week</th>\n      <th>RP</th>\n      <th>RE</th>\n      <th>BP</th>\n      <th>MH</th>\n      <th>VT</th>\n      <th>...</th>\n      <th>Time standing (h)</th>\n      <th>Time stepping (h)</th>\n      <th>Step count</th>\n      <th>Sit to stand transitions</th>\n      <th>Sitting only.1</th>\n      <th>Time standing (h).1</th>\n      <th>Time stepping (h).1</th>\n      <th>Step count.1</th>\n      <th>Sit to stand transitions.1</th>\n      <th>Gender</th>\n    </tr>\n  </thead>\n  <tbody>\n    <tr>\n      <th>21</th>\n      <td>-1.329718</td>\n      <td>-0.834830</td>\n      <td>-0.129503</td>\n      <td>-0.416880</td>\n      <td>-0.375835</td>\n      <td>0.430939</td>\n      <td>0.298681</td>\n      <td>0.574851</td>\n      <td>1.192380</td>\n      <td>1.876699</td>\n      <td>...</td>\n      <td>-1.746711</td>\n      <td>-0.932873</td>\n      <td>-0.664946</td>\n      <td>-1.073608</td>\n      <td>0.989088</td>\n      <td>-0.725416</td>\n      <td>1.152502</td>\n      <td>1.844818</td>\n      <td>-0.555733</td>\n      <td>0</td>\n    </tr>\n    <tr>\n      <th>29</th>\n      <td>0.794954</td>\n      <td>-0.833239</td>\n      <td>1.611489</td>\n      <td>0.356721</td>\n      <td>1.625200</td>\n      <td>0.430939</td>\n      <td>0.298681</td>\n      <td>-0.759624</td>\n      <td>0.393362</td>\n      <td>0.474568</td>\n      <td>...</td>\n      <td>0.103399</td>\n      <td>0.429447</td>\n      <td>0.292331</td>\n      <td>-0.721856</td>\n      <td>1.784979</td>\n      <td>-0.844742</td>\n      <td>-1.065254</td>\n      <td>-1.007798</td>\n      <td>-0.381107</td>\n      <td>0</td>\n    </tr>\n    <tr>\n      <th>52</th>\n      <td>0.539994</td>\n      <td>1.279491</td>\n      <td>0.697468</td>\n      <td>0.299015</td>\n      <td>0.180008</td>\n      <td>0.430939</td>\n      <td>0.298681</td>\n      <td>0.574851</td>\n      <td>-1.204672</td>\n      <td>-0.927564</td>\n      <td>...</td>\n      <td>0.887918</td>\n      <td>-0.450296</td>\n      <td>-0.439387</td>\n      <td>-0.975117</td>\n      <td>-0.804291</td>\n      <td>1.829723</td>\n      <td>-0.764273</td>\n      <td>-0.891048</td>\n      <td>-1.104558</td>\n      <td>1</td>\n    </tr>\n    <tr>\n      <th>53</th>\n      <td>1.389863</td>\n      <td>1.053105</td>\n      <td>-1.156688</td>\n      <td>-0.346845</td>\n      <td>0.180008</td>\n      <td>-1.043326</td>\n      <td>-1.858457</td>\n      <td>-0.759624</td>\n      <td>-2.003689</td>\n      <td>-2.329696</td>\n      <td>...</td>\n      <td>0.340359</td>\n      <td>0.015199</td>\n      <td>-0.121687</td>\n      <td>0.180975</td>\n      <td>-1.085687</td>\n      <td>0.799885</td>\n      <td>0.827759</td>\n      <td>0.511705</td>\n      <td>0.966008</td>\n      <td>1</td>\n    </tr>\n    <tr>\n      <th>17</th>\n      <td>-1.584679</td>\n      <td>-0.833484</td>\n      <td>0.566894</td>\n      <td>-0.525563</td>\n      <td>-3.710894</td>\n      <td>0.430939</td>\n      <td>0.298681</td>\n      <td>0.574851</td>\n      <td>-0.405655</td>\n      <td>0.474568</td>\n      <td>...</td>\n      <td>0.018822</td>\n      <td>-0.819275</td>\n      <td>-0.858186</td>\n      <td>-0.749996</td>\n      <td>0.447295</td>\n      <td>-0.121002</td>\n      <td>0.677269</td>\n      <td>0.650985</td>\n      <td>-1.329077</td>\n      <td>0</td>\n    </tr>\n    <tr>\n      <th>30</th>\n      <td>-1.584679</td>\n      <td>-0.833239</td>\n      <td>1.002142</td>\n      <td>-0.243719</td>\n      <td>0.735851</td>\n      <td>0.430939</td>\n      <td>0.298681</td>\n      <td>0.574851</td>\n      <td>-1.204672</td>\n      <td>-0.927564</td>\n      <td>...</td>\n      <td>-0.853555</td>\n      <td>-1.201920</td>\n      <td>-1.193623</td>\n      <td>-0.721856</td>\n      <td>1.742980</td>\n      <td>-1.262385</td>\n      <td>-1.841469</td>\n      <td>-1.748676</td>\n      <td>-0.954878</td>\n      <td>0</td>\n    </tr>\n    <tr>\n      <th>41</th>\n      <td>0.879941</td>\n      <td>1.138764</td>\n      <td>-0.268782</td>\n      <td>0.181586</td>\n      <td>0.180008</td>\n      <td>0.430939</td>\n      <td>0.298681</td>\n      <td>-0.759624</td>\n      <td>-0.405655</td>\n      <td>0.474568</td>\n      <td>...</td>\n      <td>-0.832775</td>\n      <td>-0.655284</td>\n      <td>-0.547625</td>\n      <td>-1.369080</td>\n      <td>-0.947089</td>\n      <td>-0.408942</td>\n      <td>0.083227</td>\n      <td>-0.084041</td>\n      <td>-0.979825</td>\n      <td>1</td>\n    </tr>\n    <tr>\n      <th>56</th>\n      <td>-0.479849</td>\n      <td>1.181594</td>\n      <td>0.497254</td>\n      <td>0.798088</td>\n      <td>0.180008</td>\n      <td>0.430939</td>\n      <td>0.298681</td>\n      <td>0.574851</td>\n      <td>-1.204672</td>\n      <td>0.474568</td>\n      <td>...</td>\n      <td>-1.836027</td>\n      <td>-0.911520</td>\n      <td>-0.658837</td>\n      <td>-0.893823</td>\n      <td>-0.482994</td>\n      <td>-0.372625</td>\n      <td>-0.526656</td>\n      <td>-0.827845</td>\n      <td>0.467077</td>\n      <td>1</td>\n    </tr>\n    <tr>\n      <th>34</th>\n      <td>-0.309875</td>\n      <td>-0.834732</td>\n      <td>0.044596</td>\n      <td>-0.284415</td>\n      <td>0.402345</td>\n      <td>0.430939</td>\n      <td>0.298681</td>\n      <td>0.574851</td>\n      <td>-1.204672</td>\n      <td>1.876699</td>\n      <td>...</td>\n      <td>0.194537</td>\n      <td>-0.095837</td>\n      <td>-0.143201</td>\n      <td>0.849304</td>\n      <td>2.538870</td>\n      <td>-1.241632</td>\n      <td>-0.273198</td>\n      <td>0.355453</td>\n      <td>-0.231428</td>\n      <td>0</td>\n    </tr>\n    <tr>\n      <th>33</th>\n      <td>-0.309875</td>\n      <td>-0.835075</td>\n      <td>-1.174098</td>\n      <td>-1.471461</td>\n      <td>0.068839</td>\n      <td>0.430939</td>\n      <td>0.298681</td>\n      <td>0.574851</td>\n      <td>-0.405655</td>\n      <td>0.474568</td>\n      <td>...</td>\n      <td>1.760903</td>\n      <td>0.637282</td>\n      <td>0.138389</td>\n      <td>1.185423</td>\n      <td>0.705592</td>\n      <td>0.478223</td>\n      <td>-0.542497</td>\n      <td>-0.874077</td>\n      <td>1.514833</td>\n      <td>1</td>\n    </tr>\n    <tr>\n      <th>11</th>\n      <td>-0.054915</td>\n      <td>-0.833851</td>\n      <td>0.479844</td>\n      <td>-0.386350</td>\n      <td>0.735851</td>\n      <td>0.430939</td>\n      <td>0.298681</td>\n      <td>0.574851</td>\n      <td>0.393362</td>\n      <td>0.474568</td>\n      <td>...</td>\n      <td>-0.321306</td>\n      <td>-0.399049</td>\n      <td>-0.301923</td>\n      <td>0.227875</td>\n      <td>-0.405295</td>\n      <td>-0.133973</td>\n      <td>-0.249437</td>\n      <td>-0.075555</td>\n      <td>-0.206481</td>\n      <td>0</td>\n    </tr>\n    <tr>\n      <th>58</th>\n      <td>1.389863</td>\n      <td>1.169357</td>\n      <td>-0.973884</td>\n      <td>-0.904633</td>\n      <td>0.068839</td>\n      <td>0.430939</td>\n      <td>0.298681</td>\n      <td>0.574851</td>\n      <td>-0.405655</td>\n      <td>-0.927564</td>\n      <td>...</td>\n      <td>-0.717576</td>\n      <td>0.151004</td>\n      <td>0.322482</td>\n      <td>-0.553015</td>\n      <td>0.590093</td>\n      <td>0.294046</td>\n      <td>-0.439530</td>\n      <td>-0.687102</td>\n      <td>-0.106695</td>\n      <td>1</td>\n    </tr>\n    <tr>\n      <th>39</th>\n      <td>1.729810</td>\n      <td>1.040868</td>\n      <td>0.183876</td>\n      <td>1.620091</td>\n      <td>0.180008</td>\n      <td>0.430939</td>\n      <td>0.298681</td>\n      <td>0.574851</td>\n      <td>1.192380</td>\n      <td>0.474568</td>\n      <td>...</td>\n      <td>-0.058463</td>\n      <td>-0.566456</td>\n      <td>-0.615576</td>\n      <td>-0.252853</td>\n      <td>0.875690</td>\n      <td>-0.629436</td>\n      <td>-0.970207</td>\n      <td>-0.874955</td>\n      <td>0.217611</td>\n      <td>1</td>\n    </tr>\n    <tr>\n      <th>32</th>\n      <td>-0.309875</td>\n      <td>-0.836665</td>\n      <td>-1.261148</td>\n      <td>-0.574460</td>\n      <td>0.735851</td>\n      <td>0.430939</td>\n      <td>0.298681</td>\n      <td>0.574851</td>\n      <td>1.192380</td>\n      <td>0.474568</td>\n      <td>...</td>\n      <td>2.472998</td>\n      <td>1.964013</td>\n      <td>1.510798</td>\n      <td>2.279763</td>\n      <td>-0.203698</td>\n      <td>0.369273</td>\n      <td>0.605984</td>\n      <td>0.438553</td>\n      <td>1.165581</td>\n      <td>1</td>\n    </tr>\n    <tr>\n      <th>20</th>\n      <td>1.644823</td>\n      <td>-0.835319</td>\n      <td>0.131646</td>\n      <td>0.229882</td>\n      <td>0.180008</td>\n      <td>0.430939</td>\n      <td>0.298681</td>\n      <td>0.574851</td>\n      <td>1.192380</td>\n      <td>0.474568</td>\n      <td>...</td>\n      <td>0.389209</td>\n      <td>-1.290749</td>\n      <td>-1.482113</td>\n      <td>0.394371</td>\n      <td>0.871490</td>\n      <td>-0.753951</td>\n      <td>-1.603852</td>\n      <td>-1.653579</td>\n      <td>-0.031855</td>\n      <td>0</td>\n    </tr>\n    <tr>\n      <th>43</th>\n      <td>-1.329718</td>\n      <td>1.212187</td>\n      <td>-1.766035</td>\n      <td>-2.108280</td>\n      <td>0.180008</td>\n      <td>0.430939</td>\n      <td>0.298681</td>\n      <td>0.574851</td>\n      <td>0.393362</td>\n      <td>0.474568</td>\n      <td>...</td>\n      <td>-0.040965</td>\n      <td>0.130505</td>\n      <td>0.471260</td>\n      <td>-1.078298</td>\n      <td>-0.006300</td>\n      <td>-0.652783</td>\n      <td>-0.399927</td>\n      <td>-0.046002</td>\n      <td>-1.104558</td>\n      <td>1</td>\n    </tr>\n    <tr>\n      <th>55</th>\n      <td>0.964928</td>\n      <td>1.142435</td>\n      <td>-1.591936</td>\n      <td>-1.521135</td>\n      <td>0.180008</td>\n      <td>0.430939</td>\n      <td>0.298681</td>\n      <td>0.574851</td>\n      <td>0.393362</td>\n      <td>0.474568</td>\n      <td>...</td>\n      <td>-0.005967</td>\n      <td>-0.437484</td>\n      <td>-0.497618</td>\n      <td>1.025180</td>\n      <td>-0.249897</td>\n      <td>-0.193636</td>\n      <td>0.035703</td>\n      <td>0.034172</td>\n      <td>-0.131641</td>\n      <td>1</td>\n    </tr>\n    <tr>\n      <th>59</th>\n      <td>0.624981</td>\n      <td>1.102053</td>\n      <td>0.305745</td>\n      <td>1.238447</td>\n      <td>0.180008</td>\n      <td>-1.043326</td>\n      <td>0.298681</td>\n      <td>-0.759624</td>\n      <td>-0.405655</td>\n      <td>-0.927564</td>\n      <td>...</td>\n      <td>-1.277531</td>\n      <td>-0.419548</td>\n      <td>-0.247263</td>\n      <td>-0.149672</td>\n      <td>0.692992</td>\n      <td>-0.868089</td>\n      <td>-0.368245</td>\n      <td>-0.342705</td>\n      <td>-0.356160</td>\n      <td>1</td>\n    </tr>\n    <tr>\n      <th>28</th>\n      <td>-1.669666</td>\n      <td>-0.835075</td>\n      <td>0.131646</td>\n      <td>0.052272</td>\n      <td>-1.821027</td>\n      <td>0.430939</td>\n      <td>0.298681</td>\n      <td>0.574851</td>\n      <td>-2.003689</td>\n      <td>-0.927564</td>\n      <td>...</td>\n      <td>-0.417913</td>\n      <td>-0.685178</td>\n      <td>-0.792274</td>\n      <td>-0.159052</td>\n      <td>-1.547682</td>\n      <td>1.754496</td>\n      <td>0.320844</td>\n      <td>-0.055073</td>\n      <td>-0.381107</td>\n      <td>1</td>\n    </tr>\n    <tr>\n      <th>18</th>\n      <td>0.794954</td>\n      <td>-0.834463</td>\n      <td>0.801928</td>\n      <td>0.372707</td>\n      <td>0.735851</td>\n      <td>0.430939</td>\n      <td>-4.015595</td>\n      <td>0.574851</td>\n      <td>-0.405655</td>\n      <td>0.474568</td>\n      <td>...</td>\n      <td>-1.358462</td>\n      <td>-0.334990</td>\n      <td>-0.080572</td>\n      <td>-1.228379</td>\n      <td>-1.787079</td>\n      <td>1.497685</td>\n      <td>0.962409</td>\n      <td>0.750471</td>\n      <td>-1.229291</td>\n      <td>0</td>\n    </tr>\n    <tr>\n      <th>49</th>\n      <td>1.049915</td>\n      <td>1.114290</td>\n      <td>0.732288</td>\n      <td>1.678805</td>\n      <td>0.180008</td>\n      <td>-2.517592</td>\n      <td>0.298681</td>\n      <td>-2.094098</td>\n      <td>-1.204672</td>\n      <td>-0.927564</td>\n      <td>...</td>\n      <td>0.104857</td>\n      <td>0.192002</td>\n      <td>0.415420</td>\n      <td>-0.393554</td>\n      <td>0.665692</td>\n      <td>-0.606090</td>\n      <td>-0.067264</td>\n      <td>-0.251997</td>\n      <td>-0.830145</td>\n      <td>1</td>\n    </tr>\n    <tr>\n      <th>40</th>\n      <td>-0.054915</td>\n      <td>1.218305</td>\n      <td>-1.034819</td>\n      <td>-1.315634</td>\n      <td>0.180008</td>\n      <td>0.430939</td>\n      <td>0.298681</td>\n      <td>0.574851</td>\n      <td>0.393362</td>\n      <td>-0.927564</td>\n      <td>...</td>\n      <td>0.470869</td>\n      <td>-0.460545</td>\n      <td>-0.528374</td>\n      <td>-0.909457</td>\n      <td>-0.680392</td>\n      <td>1.155270</td>\n      <td>-0.550418</td>\n      <td>-0.918553</td>\n      <td>0.217611</td>\n      <td>1</td>\n    </tr>\n    <tr>\n      <th>4</th>\n      <td>-0.904784</td>\n      <td>-0.836788</td>\n      <td>0.653943</td>\n      <td>2.166780</td>\n      <td>0.402345</td>\n      <td>0.430939</td>\n      <td>0.298681</td>\n      <td>0.574851</td>\n      <td>1.192380</td>\n      <td>0.474568</td>\n      <td>...</td>\n      <td>-0.939225</td>\n      <td>-0.211143</td>\n      <td>-0.122643</td>\n      <td>-0.604605</td>\n      <td>-0.075599</td>\n      <td>-0.095062</td>\n      <td>2.982151</td>\n      <td>3.196950</td>\n      <td>0.641703</td>\n      <td>0</td>\n    </tr>\n    <tr>\n      <th>19</th>\n      <td>-1.669666</td>\n      <td>-0.836665</td>\n      <td>-0.973884</td>\n      <td>-0.181426</td>\n      <td>-2.376870</td>\n      <td>0.430939</td>\n      <td>0.298681</td>\n      <td>0.574851</td>\n      <td>0.393362</td>\n      <td>0.474568</td>\n      <td>...</td>\n      <td>1.008950</td>\n      <td>-1.215586</td>\n      <td>-1.280044</td>\n      <td>-0.121532</td>\n      <td>-1.892078</td>\n      <td>1.134518</td>\n      <td>0.407970</td>\n      <td>1.006209</td>\n      <td>-1.129504</td>\n      <td>1</td>\n    </tr>\n    <tr>\n      <th>26</th>\n      <td>2.324719</td>\n      <td>-0.832872</td>\n      <td>2.046737</td>\n      <td>0.527613</td>\n      <td>0.735851</td>\n      <td>0.430939</td>\n      <td>0.298681</td>\n      <td>0.574851</td>\n      <td>1.192380</td>\n      <td>0.474568</td>\n      <td>...</td>\n      <td>-0.332243</td>\n      <td>0.950459</td>\n      <td>1.032399</td>\n      <td>0.438927</td>\n      <td>0.569093</td>\n      <td>-0.271457</td>\n      <td>0.099068</td>\n      <td>0.286983</td>\n      <td>0.067931</td>\n      <td>0</td>\n    </tr>\n  </tbody>\n</table>\n<p>25 rows × 24 columns</p>\n</div>"
     },
     "execution_count": 72,
     "metadata": {},
     "output_type": "execute_result"
    }
   ],
   "source": [
    "from random import sample, seed\n",
    "#random forest per livello ansia, senza depressione.\n",
    "y_depression = df[\"Total Depression score\"]\n",
    "df_smaller = df.drop(columns=[\"Total anxiety score\", \"Total Depression score\"], inplace = False)\n",
    "\n",
    "seed(33)\n",
    "training_idx_depression = sample(range(0,df.shape[0]),25)\n",
    "validation_idx_depression = sample(range(0,df.shape[0]),20)\n",
    "test_idx_depression = sample(range(0,df.shape[0]),20)\n",
    "\n",
    "training_depression = df_smaller.iloc[training_idx_depression]\n",
    "validation_depression = df_smaller.iloc[validation_idx_depression]\n",
    "test_depression = df_smaller.iloc[test_idx_depression]\n",
    "\n",
    "#y_depression.iloc[training_idx_depression]\n",
    "training_depression"
   ],
   "metadata": {
    "collapsed": false,
    "ExecuteTime": {
     "end_time": "2023-11-26T14:10:35.937941400Z",
     "start_time": "2023-11-26T14:10:35.890764900Z"
    }
   },
   "id": "ab68791bcba106d2"
  },
  {
   "cell_type": "code",
   "execution_count": 76,
   "outputs": [
    {
     "name": "stdout",
     "output_type": "stream",
     "text": [
      "0.7235547355473553\n",
      "0.6694880073800736\n",
      "0.5661404947382805\n",
      "0.5238864971983052\n",
      "0.5368880073800737\n",
      "0.5656678966789668\n",
      "0.5288489544895449\n",
      "0.5290292435424356\n",
      "0.5135960297936316\n",
      "0.5491715982472328\n"
     ]
    }
   ],
   "source": [
    "#crea la random forest per la depressione\n",
    "from sklearn.ensemble import RandomForestRegressor \n",
    "#TODO fare il validation per parametri B ed MTRY, questa è solo una prova...\n",
    "min_validation_error = sys.maxsize\n",
    "min_model = None\n",
    "list_n_trees = [10,20,30,60,100,125,150,200,300,400]\n",
    "for i in range(0,len(list_n_trees)):\n",
    "    rf = RandomForestRegressor(n_estimators=list_n_trees[i])\n",
    "    rf.fit(training_depression, y_depression.iloc[training_idx_depression])\n",
    "    y_predict_depression = rf.predict(validation_depression)\n",
    "    #Calcolo del validation error...\n",
    "    MSE = np.mean((y_depression.iloc[validation_idx_depression]-y_predict_depression)**2)\n",
    "    print(MSE)\n",
    "    if min_validation_error > MSE:\n",
    "        min_model = rf\n",
    "        min_validation_error = MSE\n",
    "\n",
    "\n"
   ],
   "metadata": {
    "collapsed": false,
    "ExecuteTime": {
     "end_time": "2023-11-26T14:15:32.931288600Z",
     "start_time": "2023-11-26T14:15:30.863574400Z"
    }
   },
   "id": "a368c9f318180434"
  },
  {
   "cell_type": "code",
   "execution_count": 66,
   "outputs": [],
   "source": [
    "from sklearn.ensemble import RandomForestRegressor \n",
    "from random import sample, seed\n",
    "#random forest per livello depressione, senza ansia.\n",
    "y_anxiety = df[\"Total anxiety score\"]\n",
    "df_anxiety = df.drop(columns=[\"Total anxiety score\", \"Total Depression score\"], inplace = False)\n",
    "\n",
    "seed(333)\n",
    "#TODO riprendere il test set precedente\n",
    "training_idx_anxiety = sample(range(0,df.shape[0]),45)\n",
    "test_idx_anxiety = sample(range(0,df.shape[0]),20)\n",
    "\n",
    "training_anxiety = df_smaller.iloc[training_idx_anxiety]\n",
    "test_idx_anxiety = df_smaller.iloc[test_idx_anxiety]\n",
    "\n"
   ],
   "metadata": {
    "collapsed": false,
    "ExecuteTime": {
     "end_time": "2023-11-26T11:28:57.977291500Z",
     "start_time": "2023-11-26T11:28:57.961504300Z"
    }
   },
   "id": "738da117e3b848c1"
  }
 ],
 "metadata": {
  "kernelspec": {
   "display_name": "Python 3",
   "language": "python",
   "name": "python3"
  },
  "language_info": {
   "codemirror_mode": {
    "name": "ipython",
    "version": 2
   },
   "file_extension": ".py",
   "mimetype": "text/x-python",
   "name": "python",
   "nbconvert_exporter": "python",
   "pygments_lexer": "ipython2",
   "version": "2.7.6"
  }
 },
 "nbformat": 4,
 "nbformat_minor": 5
}
