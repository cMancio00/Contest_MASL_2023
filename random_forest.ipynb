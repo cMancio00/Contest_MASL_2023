{
 "cells": [
  {
   "cell_type": "code",
   "execution_count": 30,
   "id": "initial_id",
   "metadata": {
    "collapsed": true,
    "ExecuteTime": {
     "end_time": "2023-11-27T14:26:52.549155100Z",
     "start_time": "2023-11-27T14:26:52.500300100Z"
    }
   },
   "outputs": [],
   "source": [
    "import sys\n",
    "\n",
    "import pandas as pd\n",
    "import numpy as np\n",
    "df = pd.read_excel(\"Data/S1%20File.xlsx\")\n",
    "#Rimozione colonne inutili e valori nulli\n",
    "df.drop(columns=[\"Average weekday\", \"Average weekend day\"], inplace=True)\n",
    "df.dropna(inplace=True)\n",
    "\n",
    "#Lista ordine delle colonne\n",
    "columns_order = df.columns\n",
    "\n",
    "#Cambio del valore in Genere 1:Maschio 0:Femmina\n",
    "df[\"Gender\"] = np.where(df[\"Gender\"] == 2, 1,0)\n",
    "\n",
    "#Normalizzazione\n",
    "gender = df[\"Gender\"]\n",
    "id_no = df[\"ID No\"]\n",
    "df.drop(columns=[\"Gender\", \"ID No\"], inplace=True)\n",
    "\n",
    "df = (df - df.mean())/df.std()\n",
    "df[\"Gender\"] = gender\n",
    "#df[\"ID No\"] = id_no\n",
    "\n",
    "#df = df[columns_order]\n",
    "df.reset_index(drop=True, inplace=True)"
   ]
  },
  {
   "cell_type": "code",
   "execution_count": 31,
   "outputs": [],
   "source": [
    "import random\n",
    "from random import sample\n",
    "#random forest per livello ansia, senza depressione.\n",
    "y_depression = df[\"Total Depression score\"]\n",
    "df_smaller = df.drop(columns=[\"Total anxiety score\", \"Total Depression score\"], inplace = False)\n",
    "\n",
    "seed = 33\n",
    "random.seed(seed)\n",
    "\n",
    "test_idx_depression = sample(range(0,df_smaller.shape[0]),20)\n",
    "test_depression = df_smaller.iloc[test_idx_depression]\n",
    "df_training_validation = df_smaller.drop(df_smaller.index[test_idx_depression], inplace=False)\n"
   ],
   "metadata": {
    "collapsed": false,
    "ExecuteTime": {
     "end_time": "2023-11-27T14:26:52.559533Z",
     "start_time": "2023-11-27T14:26:52.549155100Z"
    }
   },
   "id": "ab68791bcba106d2"
  },
  {
   "cell_type": "code",
   "execution_count": null,
   "outputs": [],
   "source": [
    "#crea la random forest per la depressione\n",
    "from sklearn.ensemble import RandomForestRegressor\n",
    "import matplotlib.pyplot as plt\n",
    "from sklearn.model_selection import KFold\n",
    "#TODO fare il validation per parametri B ed MTRY, questa è solo una prova...\n",
    "min_validation_error = sys.maxsize\n",
    "min_model = None\n",
    "#TODO aggiunti parametri list e max_depth, però stranamente la curva di validation error non è quella che ci si aspetta...\n",
    "max_depth = range(2,11)\n",
    "kf = KFold(n_splits=5, shuffle=True)\n",
    "kf.get_n_splits(df_training_validation)\n",
    "rf = None\n",
    "MSE_Val_epochs = []\n",
    "MSE_Tr_epochs = []\n",
    "for j in range(0, len(max_depth)):\n",
    "        MSE_TR = 0\n",
    "        MSE_VAL = 0\n",
    "        MSE_VAL_list = []\n",
    "        MSE_TRAIN_list = []\n",
    "        for z, (train_index, test_index) in enumerate(kf.split(df_training_validation)):\n",
    "                #TODO inserire poi i parametri. Per ora risultati anomali nel MSE\n",
    "                rf = RandomForestRegressor(max_depth=max_depth[j], random_state=seed)\n",
    "                rf.fit(df_training_validation.iloc[train_index], y_depression.iloc[train_index])\n",
    "                y_depression_validation = rf.predict(df_training_validation.iloc[test_index])\n",
    "                y_depression_training = rf.predict(df_training_validation.iloc[train_index])\n",
    "                #calcolo training error\n",
    "                MSE_TR = np.mean((y_depression.iloc[train_index]-y_depression_training)**2)\n",
    "                #Calcolo del validation error...\n",
    "                MSE_VAL = np.mean((y_depression.iloc[test_index]-y_depression_validation)**2)\n",
    "                MSE_VAL_list.append(MSE_VAL)\n",
    "                MSE_TRAIN_list.append(MSE_TR)\n",
    "        MSE_validation = np.mean(MSE_VAL_list)\n",
    "        MSE_train = np.mean(MSE_TRAIN_list)\n",
    "        MSE_Val_epochs.append(MSE_validation)\n",
    "        MSE_Tr_epochs.append(MSE_train)\n",
    "        if min_validation_error > MSE_validation:\n",
    "                min_model = rf\n",
    "                min_validation_error = MSE_validation\n",
    "        \n",
    "plt.plot(range(2,11), MSE_Val_epochs)\n",
    "plt.plot(range(2,11), MSE_Tr_epochs)\n",
    "plt.show()\n"
   ],
   "metadata": {
    "collapsed": false
   },
   "id": "a368c9f318180434"
  },
  {
   "cell_type": "code",
   "execution_count": null,
   "outputs": [],
   "source": [
    "#Fit the final model using training+validation set\n",
    "rf.fit(df_training_validation, y_depression.iloc[df_training_validation.index])\n",
    "y_depression_estimate = rf.predict(test_depression)\n",
    "MSE_ERROR = np.mean((y_depression_estimate-y_depression.iloc[test_idx_depression])**2)\n",
    "MSE_ERROR"
   ],
   "metadata": {
    "collapsed": false,
    "is_executing": true
   },
   "id": "da52aa4103d9b3b0"
  },
  {
   "cell_type": "code",
   "execution_count": null,
   "outputs": [],
   "source": [
    "from sklearn import tree\n",
    "fig, axes = plt.subplots(nrows = 1,ncols = 1,figsize = (6,6), dpi=800)\n",
    "tree.plot_tree(rf.estimators_[0],\n",
    "               filled = True,feature_names=df_smaller.columns)\n",
    "fig.savefig('rf_individualtree.png')"
   ],
   "metadata": {
    "collapsed": false,
    "is_executing": true
   },
   "id": "8676e647f9a9444d"
  },
  {
   "cell_type": "code",
   "execution_count": null,
   "outputs": [],
   "source": [
    "from sklearn.ensemble import RandomForestRegressor \n",
    "from random import sample, seed\n",
    "#random forest per livello depressione, senza ansia.\n",
    "y_anxiety = df[\"Total anxiety score\"]\n",
    "df_anxiety = df.drop(columns=[\"Total anxiety score\", \"Total Depression score\"], inplace = False)\n",
    "\n",
    "seed(333)\n",
    "#TODO riprendere il test set precedente\n",
    "\n",
    "\n"
   ],
   "metadata": {
    "collapsed": false,
    "is_executing": true
   },
   "id": "738da117e3b848c1"
  }
 ],
 "metadata": {
  "kernelspec": {
   "display_name": "Python 3",
   "language": "python",
   "name": "python3"
  },
  "language_info": {
   "codemirror_mode": {
    "name": "ipython",
    "version": 2
   },
   "file_extension": ".py",
   "mimetype": "text/x-python",
   "name": "python",
   "nbconvert_exporter": "python",
   "pygments_lexer": "ipython2",
   "version": "2.7.6"
  }
 },
 "nbformat": 4,
 "nbformat_minor": 5
}
