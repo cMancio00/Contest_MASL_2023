{
 "cells": [
  {
   "cell_type": "markdown",
   "source": [
    "# CONTEST MASL 2023: MULTI SAMPLE SPLITTING, Christian Mancini.\n",
    "\n",
    "L'obbiettivo di questo Notebook è implementare i criteri per l'analisi in grandi dimensioni definite nel paper:\n",
    "[High-Dimensional Inference: Confidence Intervals, p-Values and R-Software hdi](https://arxiv.org/pdf/1408.4026.pdf).\n",
    "\n",
    "Attraverso una simulazione MonteCarlo, proviamo a verificare ciò che è stato proposto."
   ],
   "metadata": {
    "collapsed": false
   },
   "id": "42d3aa1b8425c642"
  },
  {
   "cell_type": "code",
   "execution_count": 1,
   "id": "initial_id",
   "metadata": {
    "collapsed": true,
    "ExecuteTime": {
     "end_time": "2023-12-10T14:29:34.050428139Z",
     "start_time": "2023-12-10T14:29:33.404740169Z"
    }
   },
   "outputs": [],
   "source": [
    "import numpy as np\n",
    "import pandas as pd\n",
    "import math\n",
    "from sklearn.linear_model import ElasticNetCV\n",
    "import statsmodels.api as sm\n",
    "import warnings\n",
    "warnings.filterwarnings(\"ignore\")\n",
    "\n",
    "seed = 420\n",
    "np.random.seed(seed)"
   ]
  },
  {
   "cell_type": "markdown",
   "source": [
    "## Data generating process"
   ],
   "metadata": {
    "collapsed": false
   },
   "id": "b84b3cadd0262bd9"
  },
  {
   "cell_type": "markdown",
   "source": [
    "La generazione dei dati è eseguita campionando da una Normale. Specificando il vero modello da usare, possiamo costruire la variabile di risposta."
   ],
   "metadata": {
    "collapsed": false
   },
   "id": "2aed98f0f5cc4bf4"
  },
  {
   "cell_type": "code",
   "execution_count": 2,
   "outputs": [],
   "source": [
    "def generate_data(dimention:int,observations:int)->pd.DataFrame:\n",
    "    variables = np.array(range(dimention),dtype=float)\n",
    "    data = pd.DataFrame()\n",
    "    for idx, variable in enumerate(variables):\n",
    "        mu, sigma = variable, math.sqrt(variable + 1)\n",
    "        generated = np.random.normal(mu,sigma,observations)\n",
    "        data[variable] = generated\n",
    "    return data.copy()\n",
    "\n",
    "def build_response(data:pd.DataFrame,colums_to_include:list,values:list,name = \"y\")->pd.Series:\n",
    "    if np.shape(colums_to_include) != np.shape(values):\n",
    "        raise ValueError('Columns and values have different shapes')\n",
    "    response = np.random.normal(0,1,np.shape(data)[0])\n",
    "    for i, column in enumerate(colums_to_include):\n",
    "        response += data[column]*values[i]\n",
    "    return pd.Series(name=name,data = response)"
   ],
   "metadata": {
    "collapsed": false,
    "ExecuteTime": {
     "end_time": "2023-12-10T14:29:34.091364710Z",
     "start_time": "2023-12-10T14:29:34.090464513Z"
    }
   },
   "id": "bff6b7642fae644c"
  },
  {
   "cell_type": "markdown",
   "source": [
    "Il vero modello è definito come $y = 16\\beta_5 + 8\\beta_{10} + 4\\beta_{15} + 2\\beta_{20} + \\varepsilon$.\n",
    "\n",
    "> La $i$-esima variabile è campionata da $N ~ (i,\\sqrt{i})$."
   ],
   "metadata": {
    "collapsed": false
   },
   "id": "2f72d2f352f71392"
  },
  {
   "cell_type": "markdown",
   "source": [
    "Specifichiamo la dimensione $p$ del dataset e quante osservazioni vogliamo.\n",
    "\n",
    "Di seguito dichiariamo anche il vero modello per generare la risposta."
   ],
   "metadata": {
    "collapsed": false
   },
   "id": "c75fb30820d2b7db"
  },
  {
   "cell_type": "code",
   "execution_count": 3,
   "outputs": [],
   "source": [
    "p = 80\n",
    "observations = 40 \n",
    "toUse = [5,10,15,20]\n",
    "values = [16,8,4,2]\n",
    "\n",
    "data = generate_data(dimention = p,\n",
    "                     observations = observations)\n",
    "y = build_response(data,toUse,values)\n",
    "data[\"y\"] = y\n",
    "data.columns = data.columns.astype(str)"
   ],
   "metadata": {
    "collapsed": false,
    "ExecuteTime": {
     "end_time": "2023-12-10T14:29:34.092028830Z",
     "start_time": "2023-12-10T14:29:34.090628387Z"
    }
   },
   "id": "e40d04a352218306"
  },
  {
   "cell_type": "markdown",
   "source": [
    "Le seguenti funzioni servono per eseguire la divisione del DataSet in due parti a seconda di una percentuale fornita.\n",
    "\n",
    "> Di default è 0.5, che è il valore riportato nel paper a cui facciamo riferimento."
   ],
   "metadata": {
    "collapsed": false
   },
   "id": "e62f2d1d0584e05b"
  },
  {
   "cell_type": "code",
   "execution_count": 4,
   "outputs": [],
   "source": [
    "rng = np.random.default_rng(seed)\n",
    "\n",
    "def sample_DataFrame(df:pd.DataFrame,sample_percentage_size:float)->pd.DataFrame:\n",
    "    \"\"\"\"Funzione per campionare una percentuale dei dati dal DataSet.\"\"\"\n",
    "    if not (0.0 < sample_percentage_size < 1):\n",
    "        raise AttributeError(f\"sample_percentage_size must be in (0,1), got {sample_percentage_size} instead.\")\n",
    "    sample_size = int(df.shape[0] * sample_percentage_size)\n",
    "    sample_idx = rng.integers(low=0,high=df.shape[0],size=sample_size)\n",
    "    return df.iloc[sample_idx]\n",
    "\n",
    "def split_DataFrame(df:pd.DataFrame, sample_percentage_size=0.5, response_name = \"y\")->tuple[pd.DataFrame,pd.DataFrame]:\n",
    "    \"\"\"Funzione per dividere il Dataset in 2 parti. Il primo Dataset ha elementi pari alla percentuale fornita.\"\"\"\n",
    "    y = df[response_name]\n",
    "    df = df.drop(response_name, axis=1)\n",
    "    #Si prendono le osservazioni che hanno indice in sample_percentage_size\n",
    "    df1 = sample_DataFrame(df,sample_percentage_size)\n",
    "    df1[response_name] = y.iloc[df1.index]\n",
    "    #Si prendono le osservazioni rimanenti\n",
    "    df2 = df.iloc[~df1.index]\n",
    "    df2[response_name] = y.iloc[~df1.index]\n",
    "    return df1,df2"
   ],
   "metadata": {
    "collapsed": false,
    "ExecuteTime": {
     "end_time": "2023-12-10T14:29:34.092563880Z",
     "start_time": "2023-12-10T14:29:34.090683192Z"
    }
   },
   "id": "52b5d0a1e231fab8"
  },
  {
   "cell_type": "markdown",
   "source": [
    "## Passi della simulazione:\n",
    "\n",
    "**Ripeti B volte da 1 a 4**\n",
    "\n",
    "1. Dividere il DataSet in due parti uguali $I_1$ e $I_2$\n",
    "2. Applicare uno stimatore regolarizzato (LASSO) a $I_1$ ed estrarre i coefficienti diversi da zero\n",
    "3. Applicare a $I_2$ un OLS con soli i parametri ottenuti da $I_2$\n",
    "4. Definito $s = |\\{\\beta \\ne 0, \\forall \\beta \\in I_1\\}|$ e $P_{raw,j}$ il j-esimo p-value\n",
    "\n",
    "- Correggere i p-value ottenuti con $P_{corr,j} = min(P_{raw,j}*s,1)$\n",
    "\n",
    "5. Aggregare i $P_{corr}$ della simulazione utilizzando:\n",
    "\n",
    "- media\n",
    "- mediana\n",
    "- min-max (solo per intervalli di confidenza)\n",
    "\n",
    "> Gli intervalli di confidenza possono essere aggregati con gli stessi metodi del punto 5.\n",
    "\n",
    "La ripetizione (solitamente con $B = 50$ o $B = 100$) serve per avere dei risultati riproducibili indipendentemente dal seme usato."
   ],
   "metadata": {
    "collapsed": false
   },
   "id": "3b29fc556dd2467e"
  },
  {
   "cell_type": "markdown",
   "source": [
    "### LASSO"
   ],
   "metadata": {
    "collapsed": false
   },
   "id": "45253a18f2828f5e"
  },
  {
   "cell_type": "markdown",
   "source": [
    "Di seguito abbiamo la funzione per lo svolgimento del passo 2, ovvero applicare il LASSO e fornire i coefficienti diversi da zero."
   ],
   "metadata": {
    "collapsed": false
   },
   "id": "424195b3f1ffcca4"
  },
  {
   "cell_type": "markdown",
   "source": [],
   "metadata": {
    "collapsed": false
   },
   "id": "5770d3d63fcf3271"
  },
  {
   "cell_type": "code",
   "execution_count": 5,
   "outputs": [],
   "source": [
    "def applyLasso(data:pd.DataFrame,response = \"y\")-> tuple[int,float]:\n",
    "    \"\"\"Applica il LASSO e restituisce i coefficenti diversi da zero\"\"\"\n",
    "    X = data.drop(response,axis=1)\n",
    "    y = data[response]\n",
    "    lasso = ElasticNetCV(cv=5,random_state=seed,l1_ratio = 1)\n",
    "    lasso.fit(X, y)\n",
    "    #print(f\"Best alpha is: {lasso.alpha_}\")\n",
    "    return nonZeroCoeffiecients(X.columns,lasso.coef_)\n",
    "\n",
    "def nonZeroCoeffiecients(dataColumns,regression_coefficients)->list[tuple[str,float]]:\n",
    "    \"\"\"Restituisce una lista di tuple contenente (nome,valore) dei coefficienti diversi da zero\"\"\"\n",
    "    coefficients = list(zip(dataColumns,regression_coefficients))\n",
    "    coefficients_copy = coefficients.copy()\n",
    "    for coefficient in coefficients_copy:\n",
    "        if np.isclose(coefficient[1],0.0):\n",
    "            coefficients.remove(coefficient)\n",
    "    return coefficients"
   ],
   "metadata": {
    "collapsed": false,
    "ExecuteTime": {
     "end_time": "2023-12-10T14:29:34.093053307Z",
     "start_time": "2023-12-10T14:29:34.090737808Z"
    }
   },
   "id": "5385d990eac0f264"
  },
  {
   "cell_type": "markdown",
   "source": [
    "### OLS"
   ],
   "metadata": {
    "collapsed": false
   },
   "id": "22f54258a1697c4a"
  },
  {
   "cell_type": "markdown",
   "source": [
    "Con le funzioni sottostanti si risolve il passo 3, ovvero si utilizzano i coefficienti diversi da zero e si applica OLS."
   ],
   "metadata": {
    "collapsed": false
   },
   "id": "d2ed00e66b914bfb"
  },
  {
   "cell_type": "code",
   "execution_count": 6,
   "outputs": [],
   "source": [
    "def useNonZeroCoefficient(data:pd.DataFrame,nonZeroCoefficients:tuple[str,float],response = \"y\"):\n",
    "    coefficients_name = [coefficient[0] for coefficient in nonZeroCoefficients]\n",
    "    X = data.drop(response,axis=1)\n",
    "    y = data[\"y\"]\n",
    "    X = X[coefficients_name]\n",
    "    return X, y\n",
    "\n",
    "def applyOLS(data:pd.DataFrame,nonZeroCoefficients:tuple[str,float],response = \"y\"):\n",
    "    X, y = useNonZeroCoefficient(data,nonZeroCoefficients)\n",
    "    X = sm.add_constant(X)\n",
    "    least_square = sm.OLS(y, X)\n",
    "    least_square.fit()\n",
    "    return least_square.fit()\n"
   ],
   "metadata": {
    "collapsed": false,
    "ExecuteTime": {
     "end_time": "2023-12-10T14:29:34.094240456Z",
     "start_time": "2023-12-10T14:29:34.090768354Z"
    }
   },
   "id": "b6a7e2449256953"
  },
  {
   "cell_type": "markdown",
   "source": [],
   "metadata": {
    "collapsed": false
   },
   "id": "228a0e039dd8c00e"
  },
  {
   "cell_type": "markdown",
   "source": [
    "### Correzione dei p-values"
   ],
   "metadata": {
    "collapsed": false
   },
   "id": "b4e8de508591af42"
  },
  {
   "cell_type": "markdown",
   "source": [
    "Con le seguenti funzioni possiamo correggere il p-value della simulazione e salvarne il risultato.\n",
    "\n",
    "Lo stesso viene fatto per gli intervalli di confidenza al 95%.\n",
    "\n",
    "> In entrambi i metodi il valore riferito alla costante è stato messo in coda per semplicità."
   ],
   "metadata": {
    "collapsed": false
   },
   "id": "55314ef2890380b0"
  },
  {
   "cell_type": "code",
   "execution_count": 7,
   "outputs": [],
   "source": [
    "def correct_pvalue(row,correction):\n",
    "    return min(row*correction,1.0)\n",
    "\n",
    "def updadte_pvalues(matrix,values,correction,simulation_number):\n",
    "    pvalues_indexs = values.index.tolist()\n",
    "    for index in pvalues_indexs:\n",
    "        if index == \"const\":\n",
    "            matrix[simulation_number][-1] = correct_pvalue(values[index],correction)\n",
    "        else:\n",
    "            matrix[simulation_number][int(index)] = correct_pvalue(values[index],correction)\n",
    "    return matrix\n",
    "\n",
    "def update_confidence_intervals(lower_bound,upper_bound,values,simulation_number):\n",
    "    confidence_intervals_index = values.index.tolist()\n",
    "    for index in confidence_intervals_index:\n",
    "        if index == \"const\":\n",
    "            lower_bound[simulation_number][-1] = values[0][index]\n",
    "            upper_bound[simulation_number][-1] = values[1][index]\n",
    "        else:\n",
    "            lower_bound[simulation_number][int(index)] = values[0][index]\n",
    "            upper_bound[simulation_number][int(index)] = values[1][index]\n",
    "    \n",
    "    return lower_bound,upper_bound"
   ],
   "metadata": {
    "collapsed": false,
    "ExecuteTime": {
     "end_time": "2023-12-10T14:29:34.104689312Z",
     "start_time": "2023-12-10T14:29:34.093635270Z"
    }
   },
   "id": "d7b1e99b8871269f"
  },
  {
   "cell_type": "markdown",
   "source": [
    "### Aggregazione"
   ],
   "metadata": {
    "collapsed": false
   },
   "id": "e298e57e27456736"
  },
  {
   "cell_type": "markdown",
   "source": [
    "Ottenuti i risultati della simulazione dobbiamo aggregare i risultati secondo il passo 5.\n",
    "\n",
    "Verranno quindi usati le aggregazioni tramite:\n",
    "\n",
    "- media\n",
    "- mediana\n",
    "- min - max (sensato solo per intervalli di confidenza)"
   ],
   "metadata": {
    "collapsed": false
   },
   "id": "35ed6ff8463b0bdf"
  },
  {
   "cell_type": "code",
   "execution_count": 8,
   "outputs": [],
   "source": [
    "def aggregate_confidence_intervals(lower_bound,upper_bound,criteria = \"average\"):\n",
    "    if criteria == \"average\":\n",
    "        return pd.DataFrame(\n",
    "            [np.average(lower_bound,axis=0),\n",
    "            np.average(upper_bound,axis=0)]).T.rename(columns={0: \"Average_Lower-bound\",\n",
    "                                                              1: \"Average_Upper-bound\"})\n",
    "    elif criteria == \"median\":\n",
    "        return pd.DataFrame(\n",
    "            [np.median(lower_bound,axis=0),\n",
    "            np.median(upper_bound,axis=0)]).T.rename(columns={0: \"Median_Lower-bound\",\n",
    "                                                              1: \"Median_Upper-bound\"})\n",
    "    elif criteria == \"min-max\":\n",
    "        return pd.DataFrame([np.min(lower_bound,axis=0),\n",
    "                             np.max(lower_bound,axis=0),\n",
    "                             np.min(upper_bound,axis=0),\n",
    "                             np.max(upper_bound,axis=0)]).T.rename(columns={0: \"min-Lower-bound\", \n",
    "                                                                            1: \"max-Lower-bound\", \n",
    "                                                                            2: \"min-Upper-bound\",\n",
    "                                                                            3: \"max-Upper-bound\"})\n",
    "    else:\n",
    "        raise ValueError(f\"Criteria must be in ['average','median','min-max'], got {criteria} instead.\")\n",
    "    \n",
    "def aggregate_pvalues(pvalues,criteria = \"average\"):\n",
    "    if criteria == \"average\":\n",
    "        return pd.DataFrame(np.average(pvalues,axis=0)).rename(columns={0: \"Average\"})\n",
    "    elif criteria == \"median\":\n",
    "        return pd.DataFrame(np.median(pvalues,axis=0)).rename(columns={0: \"Median\"})\n",
    "    elif criteria == \"min-max\":\n",
    "        return pd.DataFrame([np.min(pvalues,axis=0), np.max(pvalues,axis=0)]).T.rename(columns={0: \"Min\",\n",
    "                                                                                                1: \"Max\"})\n",
    "    else:\n",
    "        raise ValueError(f\"Criteria must be in ['average','median','min-max'], got {criteria} instead.\")"
   ],
   "metadata": {
    "collapsed": false,
    "ExecuteTime": {
     "end_time": "2023-12-10T14:29:34.106526388Z",
     "start_time": "2023-12-10T14:29:34.102379431Z"
    }
   },
   "id": "9d62b2b101332a3b"
  },
  {
   "cell_type": "markdown",
   "source": [
    "## Simulazione con alta dimensionalità"
   ],
   "metadata": {
    "collapsed": false
   },
   "id": "3d0f3f527dfa2c15"
  },
  {
   "cell_type": "markdown",
   "source": [
    "Costruiti tutti i metodi di utilità possiamo effettuare la simulazione vera e propria con il codice nella cella sottostante"
   ],
   "metadata": {
    "collapsed": false
   },
   "id": "348cd5324f810b30"
  },
  {
   "cell_type": "code",
   "execution_count": 9,
   "outputs": [],
   "source": [
    "# B governa il numero di simulazioni da effettuare (tipicamente 50 o 100).\n",
    "B = 100\n",
    "\n",
    "p_values = np.ones(shape=(B,p+1), dtype=float)\n",
    "lower_bound = np.zeros(shape=(B,p+1), dtype=float)\n",
    "upper_bound = np.zeros(shape=(B,p+1), dtype=float)\n",
    "\n",
    "for simulation_number in range(B):\n",
    "    I_1, I_2 = split_DataFrame(data)\n",
    "    coefficients = applyLasso(I_1)\n",
    "    #print(f\"There are {len(coefficients)} in simulation {simulation_number}.\")\n",
    "    results = applyOLS(I_2,coefficients)\n",
    "    p_values = updadte_pvalues(p_values,results.pvalues,len(coefficients),simulation_number)\n",
    "    lower_bound,upper_bound = update_confidence_intervals(lower_bound,upper_bound,results.conf_int(),simulation_number)"
   ],
   "metadata": {
    "collapsed": false,
    "ExecuteTime": {
     "end_time": "2023-12-10T14:29:37.621498116Z",
     "start_time": "2023-12-10T14:29:34.108757386Z"
    }
   },
   "id": "ca94df7171504af"
  },
  {
   "cell_type": "markdown",
   "source": [
    "Adesso aggreghiamo gli intervalli di confidenza e i p-values per confrontarli ai veri valori scelti per la simulazione."
   ],
   "metadata": {
    "collapsed": false
   },
   "id": "9b5f9b342b71abba"
  },
  {
   "cell_type": "code",
   "execution_count": 10,
   "outputs": [
    {
     "name": "stdout",
     "output_type": "stream",
     "text": [
      "---P-values---\n",
      "    Median\n",
      "5      1.0\n",
      "10     1.0\n",
      "15     1.0\n",
      "20     1.0\n",
      "------CI------\n",
      "    Average_Lower-bound  Average_Upper-bound\n",
      "5              0.000000             0.000000\n",
      "10            -0.052591             0.216636\n",
      "15            -0.070633             0.379283\n",
      "20             0.000000             0.000000\n"
     ]
    }
   ],
   "source": [
    "CI = aggregate_confidence_intervals(lower_bound,upper_bound,criteria=\"average\")\n",
    "Pvalues = aggregate_pvalues(p_values,criteria=\"median\")\n",
    "\n",
    "print(\"---P-values---\")\n",
    "print(Pvalues.iloc[toUse])\n",
    "print(\"------CI------\")\n",
    "print(CI.iloc[toUse])"
   ],
   "metadata": {
    "collapsed": false,
    "ExecuteTime": {
     "end_time": "2023-12-10T14:29:37.632333129Z",
     "start_time": "2023-12-10T14:29:37.623691272Z"
    }
   },
   "id": "cb84b937d8c05774"
  },
  {
   "cell_type": "markdown",
   "source": [
    "Per le simulazioni effettuate, questo metodo non sembra riuscire a cogliere i veri valori dei parametri quando si tratta di grandi dimensioni.\n",
    "\n",
    "Tuttavia, se effettuiamo la stessa simulazione riducendo la dimensione e aumentando le osservazioni, questo metodo riesce a cogliere i veri valori dei parametri."
   ],
   "metadata": {
    "collapsed": false
   },
   "id": "b76ea7ca4c1820d8"
  },
  {
   "cell_type": "markdown",
   "source": [
    "## Simulazione NON in alta dimensionalità"
   ],
   "metadata": {
    "collapsed": false
   },
   "id": "ac9cbccff228dc4b"
  },
  {
   "cell_type": "code",
   "execution_count": 11,
   "outputs": [
    {
     "name": "stdout",
     "output_type": "stream",
     "text": [
      "---P-values---\n",
      "          Median\n",
      "5   4.566518e-19\n",
      "10  1.432201e-17\n",
      "15  1.052908e-14\n",
      "20  6.280502e-12\n",
      "------CI------\n",
      "    Average_Lower-bound  Average_Upper-bound\n",
      "5             15.689360            16.295953\n",
      "10             7.935545             8.358973\n",
      "15             3.622208             3.954967\n",
      "20             1.821724             2.144155\n"
     ]
    }
   ],
   "source": [
    "p = 21\n",
    "observations = 50 \n",
    "toUse = [5,10,15,20]\n",
    "values = [16,8,4,2]\n",
    "\n",
    "data = generate_data(dimention = p,\n",
    "                     observations = observations)\n",
    "y = build_response(data,toUse,values)\n",
    "data[\"y\"] = y\n",
    "data.columns = data.columns.astype(str)\n",
    "\n",
    "B = 100\n",
    "\n",
    "p_values = np.ones(shape=(B,p+1), dtype=float)\n",
    "lower_bound = np.zeros(shape=(B,p+1), dtype=float)\n",
    "upper_bound = np.zeros(shape=(B,p+1), dtype=float)\n",
    "\n",
    "for simulation_number in range(B):\n",
    "    I_1, I_2 = split_DataFrame(data)\n",
    "    coefficients = applyLasso(I_1)\n",
    "    results = applyOLS(I_2,coefficients)\n",
    "    p_values = updadte_pvalues(p_values,results.pvalues,len(coefficients),simulation_number)\n",
    "    lower_bound,upper_bound = update_confidence_intervals(lower_bound,upper_bound,results.conf_int(),simulation_number)\n",
    "\n",
    "CI = aggregate_confidence_intervals(lower_bound,upper_bound,criteria=\"average\")\n",
    "Pvalues = aggregate_pvalues(p_values,criteria=\"median\")\n",
    "\n",
    "print(\"---P-values---\")\n",
    "print(Pvalues.iloc[toUse])\n",
    "print(\"------CI------\")\n",
    "print(CI.iloc[toUse])"
   ],
   "metadata": {
    "collapsed": false,
    "ExecuteTime": {
     "end_time": "2023-12-10T14:29:40.085276193Z",
     "start_time": "2023-12-10T14:29:37.631914359Z"
    }
   },
   "id": "af36a34413e245b"
  },
  {
   "cell_type": "markdown",
   "source": [],
   "metadata": {
    "collapsed": false
   },
   "id": "4a18e05de35ff566"
  },
  {
   "cell_type": "markdown",
   "source": [
    "Per come sono state implementati i passi e per come sono stati generati i dati, i metodi proposti sembrerebbero non funzionare in dimensinalità alta, ma in dimensionalità \"normali\", colgono perfettamente i parametri scelti per la simulazione."
   ],
   "metadata": {
    "collapsed": false
   },
   "id": "601145e8f177d2d5"
  },
  {
   "cell_type": "raw",
   "source": [],
   "metadata": {
    "collapsed": false
   },
   "id": "b2214136c0eb66fe"
  }
 ],
 "metadata": {
  "kernelspec": {
   "display_name": "Python 3",
   "language": "python",
   "name": "python3"
  },
  "language_info": {
   "codemirror_mode": {
    "name": "ipython",
    "version": 2
   },
   "file_extension": ".py",
   "mimetype": "text/x-python",
   "name": "python",
   "nbconvert_exporter": "python",
   "pygments_lexer": "ipython2",
   "version": "2.7.6"
  }
 },
 "nbformat": 4,
 "nbformat_minor": 5
}
