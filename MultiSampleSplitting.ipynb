{
 "cells": [
  {
   "cell_type": "code",
   "execution_count": 1,
   "id": "initial_id",
   "metadata": {
    "collapsed": true,
    "ExecuteTime": {
     "end_time": "2023-12-07T14:23:47.499480620Z",
     "start_time": "2023-12-07T14:23:47.003603905Z"
    }
   },
   "outputs": [],
   "source": [
    "import numpy as np\n",
    "import pandas as pd\n",
    "import math\n",
    "from sklearn.linear_model import ElasticNetCV\n",
    "\n",
    "seed = 420\n",
    "np.random.seed(seed)"
   ]
  },
  {
   "cell_type": "code",
   "execution_count": 2,
   "outputs": [],
   "source": [
    "def generate_data(dimention:int,data_len:int)->pd.DataFrame:\n",
    "    variables = np.array(range(p),dtype=float)\n",
    "    data = pd.DataFrame()\n",
    "    for idx, variable in enumerate(variables):\n",
    "        mu, sigma = variable, math.sqrt(variable + 1)\n",
    "        generated = np.random.normal(mu,sigma,data_len)\n",
    "        data[variable] = generated\n",
    "    return data.copy()\n",
    "\n",
    "def build_response(data:pd.DataFrame,colums_to_include:list,values:list,name = \"y\")->pd.Series:\n",
    "    if np.shape(colums_to_include) != np.shape(values):\n",
    "        raise ValueError('Columns and values have different shapes')\n",
    "    response = np.random.normal(0,1,np.shape(data)[0])\n",
    "    for i, column in enumerate(colums_to_include):\n",
    "        response += data[column]*values[i]\n",
    "    return pd.Series(name=name,data = response)"
   ],
   "metadata": {
    "collapsed": false,
    "ExecuteTime": {
     "end_time": "2023-12-07T14:23:47.543168383Z",
     "start_time": "2023-12-07T14:23:47.539646454Z"
    }
   },
   "id": "bff6b7642fae644c"
  },
  {
   "cell_type": "markdown",
   "source": [
    "Il vero modello è definito come $y = 16\\beta_5 + 8\\beta_{10} + 4\\beta_{15} + 2\\beta_{20} + \\varepsilon$.\n",
    "\n",
    "> La $i$-esima variabile è campionata da $N ~ (i,\\sqrt{i})$."
   ],
   "metadata": {
    "collapsed": false
   },
   "id": "2f72d2f352f71392"
  },
  {
   "cell_type": "code",
   "execution_count": 3,
   "outputs": [],
   "source": [
    "p = 21\n",
    "data_len = 100\n",
    "toUse = [5,10,15,20]\n",
    "values = [16,8,4,2]\n",
    "\n",
    "data = generate_data(dimention = p,\n",
    "                     data_len = data_len)\n",
    "y = build_response(data,toUse,values)"
   ],
   "metadata": {
    "collapsed": false,
    "ExecuteTime": {
     "end_time": "2023-12-07T14:23:47.543723412Z",
     "start_time": "2023-12-07T14:23:47.539934317Z"
    }
   },
   "id": "e40d04a352218306"
  },
  {
   "cell_type": "code",
   "execution_count": 4,
   "outputs": [],
   "source": [
    "rng = np.random.default_rng(seed)\n",
    "\n",
    "def sample_DataFrame(df:pd.DataFrame,sample_percentage_size:float)->pd.DataFrame:\n",
    "    \"\"\"\"Funzione per campionare una percentuale dei dati dal DataSet.\"\"\"\n",
    "    if not (0.0 < sample_percentage_size < 1):\n",
    "        raise AttributeError(f\"sample_percentage_size must be in (0,1), got {sample_percentage_size} instead.\")\n",
    "    sample_size = int(df.shape[0] * sample_percentage_size)\n",
    "    sample_idx = rng.integers(low=0,high=df.shape[0],size=sample_size)\n",
    "    print(sample_idx)\n",
    "    return df.iloc[sample_idx]\n",
    "\n",
    "def split_DataFrame(df:pd.DataFrame, sample_percentage_size=0.5)->tuple[pd.DataFrame,pd.DataFrame]:\n",
    "    \"\"\"Funzione per dividere il Dataset in 2 parti. Il primo Dataset ha elementi pari alla percentuale fornita.\"\"\"\n",
    "    df1 = sample_DataFrame(df,sample_percentage_size)\n",
    "    df2 = df.iloc[~df1.index]\n",
    "    print(f\"First DataFrame has {df1.shape[0]} items, Second DataFrame has {df2.shape[0]} items.\")\n",
    "    return df1,df2"
   ],
   "metadata": {
    "collapsed": false,
    "ExecuteTime": {
     "end_time": "2023-12-07T14:23:47.544170420Z",
     "start_time": "2023-12-07T14:23:47.540104688Z"
    }
   },
   "id": "52b5d0a1e231fab8"
  },
  {
   "cell_type": "markdown",
   "source": [
    "# Passi della simulazione:\n",
    "\n",
    "**Ripeti B volte da 1 a 4**\n",
    "\n",
    "1. Dividere il DataSet in due parti uguali $I_1$ e $I_2$\n",
    "2. Applicare uno stimatore regolarizzato (LASSO) a $I_1$ ed estrarre i coefficienti diversi da zero\n",
    "3. Applicare a $I_2$ un OLS con soli i parametri ottenuti da $I_2$\n",
    "4. Definito $s = |\\{\\beta \\ne 0, \\forall \\beta \\in I_1\\}|$ e $P_{raw,j}$ il j-esimo p-value\n",
    "- Correggere i p-value ottenuti con $P_{corr,j} = min(P_{raw,j}*s,1)$\n",
    "5. Aggregare i $P_{corr}$ della simulazione utilizzando:\n",
    "- media\n",
    "- mediana\n",
    "- min-max\n",
    "\n",
    "> Gli intervalli di confidenza possono essere aggregati con gli stessi metodi del punto 5.\n",
    "\n",
    "La ripetizione (solitamente con $B = 50$ o $B = 100$) serve per avere dei risultati riproducibili indipendentemente dal seme usato."
   ],
   "metadata": {
    "collapsed": false
   },
   "id": "3b29fc556dd2467e"
  },
  {
   "cell_type": "code",
   "execution_count": 5,
   "outputs": [],
   "source": [
    "#TODO: Trovare un modo per separare la y\n",
    "def applyLasso(X:pd.DataFrame,y:pd.Series)-> tuple[int,float]:\n",
    "    lasso = ElasticNetCV(cv=5,random_state=seed,l1_ratio = 1)\n",
    "    lasso.fit(X, y)\n",
    "    print(f\"Best alpha is: {lasso.alpha_}\")\n",
    "    return nonZeroCoeffiecients(X.columns,lasso.coef_)\n",
    "\n",
    "def nonZeroCoeffiecients(dataColumns,regression_coefficients):\n",
    "    coefficients = list(zip(dataColumns,regression_coefficients))\n",
    "    coefficients_copy = coefficients.copy()\n",
    "    for coefficient in coefficients_copy:\n",
    "        if np.isclose(coefficient[1],0.0):\n",
    "            coefficients.remove(coefficient)\n",
    "    return coefficients"
   ],
   "metadata": {
    "collapsed": false,
    "ExecuteTime": {
     "end_time": "2023-12-07T14:23:47.544634918Z",
     "start_time": "2023-12-07T14:23:47.540404573Z"
    }
   },
   "id": "5385d990eac0f264"
  },
  {
   "cell_type": "code",
   "execution_count": 6,
   "outputs": [
    {
     "name": "stdout",
     "output_type": "stream",
     "text": [
      "[61 77 12 94 87 98  1 41 38 64 63 75 62  1 61 49 17 61 22  9 52 35 89 89\n",
      "  8 23 21 71 79 19 60 43 74 94 21 58 36 10 72 77 80 98 11 41 82 56 43  4\n",
      " 41 87]\n",
      "First DataFrame has 50 items, Second DataFrame has 50 items.\n"
     ]
    },
    {
     "ename": "ValueError",
     "evalue": "Found input variables with inconsistent numbers of samples: [50, 100]",
     "output_type": "error",
     "traceback": [
      "\u001B[0;31m---------------------------------------------------------------------------\u001B[0m",
      "\u001B[0;31mValueError\u001B[0m                                Traceback (most recent call last)",
      "Cell \u001B[0;32mIn[6], line 4\u001B[0m\n\u001B[1;32m      1\u001B[0m B \u001B[38;5;241m=\u001B[39m \u001B[38;5;241m100\u001B[39m\n\u001B[1;32m      3\u001B[0m I_1, I_2 \u001B[38;5;241m=\u001B[39m split_DataFrame(data)\n\u001B[0;32m----> 4\u001B[0m coefficients \u001B[38;5;241m=\u001B[39m \u001B[43mapplyLasso\u001B[49m\u001B[43m(\u001B[49m\u001B[43mI_1\u001B[49m\u001B[43m,\u001B[49m\u001B[43my\u001B[49m\u001B[43m)\u001B[49m\n\u001B[1;32m      5\u001B[0m \u001B[38;5;28mprint\u001B[39m(\u001B[38;5;124mf\u001B[39m\u001B[38;5;124m\"\u001B[39m\u001B[38;5;124mThere are \u001B[39m\u001B[38;5;132;01m{\u001B[39;00m\u001B[38;5;28mlen\u001B[39m(coefficients)\u001B[38;5;132;01m}\u001B[39;00m\u001B[38;5;124m non zero coefficients:\u001B[39m\u001B[38;5;130;01m\\n\u001B[39;00m\u001B[38;5;124m \u001B[39m\u001B[38;5;132;01m{\u001B[39;00mcoefficients\u001B[38;5;132;01m}\u001B[39;00m\u001B[38;5;124m\"\u001B[39m)\n",
      "Cell \u001B[0;32mIn[5], line 4\u001B[0m, in \u001B[0;36mapplyLasso\u001B[0;34m(X, y)\u001B[0m\n\u001B[1;32m      2\u001B[0m \u001B[38;5;28;01mdef\u001B[39;00m \u001B[38;5;21mapplyLasso\u001B[39m(X:pd\u001B[38;5;241m.\u001B[39mDataFrame,y:pd\u001B[38;5;241m.\u001B[39mSeries)\u001B[38;5;241m-\u001B[39m\u001B[38;5;241m>\u001B[39m \u001B[38;5;28mtuple\u001B[39m[\u001B[38;5;28mint\u001B[39m,\u001B[38;5;28mfloat\u001B[39m]:\n\u001B[1;32m      3\u001B[0m     lasso \u001B[38;5;241m=\u001B[39m ElasticNetCV(cv\u001B[38;5;241m=\u001B[39m\u001B[38;5;241m5\u001B[39m,random_state\u001B[38;5;241m=\u001B[39mseed,l1_ratio \u001B[38;5;241m=\u001B[39m \u001B[38;5;241m1\u001B[39m)\n\u001B[0;32m----> 4\u001B[0m     \u001B[43mlasso\u001B[49m\u001B[38;5;241;43m.\u001B[39;49m\u001B[43mfit\u001B[49m\u001B[43m(\u001B[49m\u001B[43mX\u001B[49m\u001B[43m,\u001B[49m\u001B[43m \u001B[49m\u001B[43my\u001B[49m\u001B[43m)\u001B[49m\n\u001B[1;32m      5\u001B[0m     \u001B[38;5;28mprint\u001B[39m(\u001B[38;5;124mf\u001B[39m\u001B[38;5;124m\"\u001B[39m\u001B[38;5;124mBest alpha is: \u001B[39m\u001B[38;5;132;01m{\u001B[39;00mlasso\u001B[38;5;241m.\u001B[39malpha_\u001B[38;5;132;01m}\u001B[39;00m\u001B[38;5;124m\"\u001B[39m)\n\u001B[1;32m      6\u001B[0m     \u001B[38;5;28;01mreturn\u001B[39;00m nonZeroCoeffiecients(X\u001B[38;5;241m.\u001B[39mcolumns,lasso\u001B[38;5;241m.\u001B[39mcoef_)\n",
      "File \u001B[0;32m~/GitHub/Contest_MASL_2023/.venv/lib64/python3.12/site-packages/sklearn/base.py:1152\u001B[0m, in \u001B[0;36m_fit_context.<locals>.decorator.<locals>.wrapper\u001B[0;34m(estimator, *args, **kwargs)\u001B[0m\n\u001B[1;32m   1145\u001B[0m     estimator\u001B[38;5;241m.\u001B[39m_validate_params()\n\u001B[1;32m   1147\u001B[0m \u001B[38;5;28;01mwith\u001B[39;00m config_context(\n\u001B[1;32m   1148\u001B[0m     skip_parameter_validation\u001B[38;5;241m=\u001B[39m(\n\u001B[1;32m   1149\u001B[0m         prefer_skip_nested_validation \u001B[38;5;129;01mor\u001B[39;00m global_skip_validation\n\u001B[1;32m   1150\u001B[0m     )\n\u001B[1;32m   1151\u001B[0m ):\n\u001B[0;32m-> 1152\u001B[0m     \u001B[38;5;28;01mreturn\u001B[39;00m \u001B[43mfit_method\u001B[49m\u001B[43m(\u001B[49m\u001B[43mestimator\u001B[49m\u001B[43m,\u001B[49m\u001B[43m \u001B[49m\u001B[38;5;241;43m*\u001B[39;49m\u001B[43margs\u001B[49m\u001B[43m,\u001B[49m\u001B[43m \u001B[49m\u001B[38;5;241;43m*\u001B[39;49m\u001B[38;5;241;43m*\u001B[39;49m\u001B[43mkwargs\u001B[49m\u001B[43m)\u001B[49m\n",
      "File \u001B[0;32m~/GitHub/Contest_MASL_2023/.venv/lib64/python3.12/site-packages/sklearn/linear_model/_coordinate_descent.py:1556\u001B[0m, in \u001B[0;36mLinearModelCV.fit\u001B[0;34m(self, X, y, sample_weight)\u001B[0m\n\u001B[1;32m   1551\u001B[0m     X, y \u001B[38;5;241m=\u001B[39m \u001B[38;5;28mself\u001B[39m\u001B[38;5;241m.\u001B[39m_validate_data(\n\u001B[1;32m   1552\u001B[0m         X, y, validate_separately\u001B[38;5;241m=\u001B[39m(check_X_params, check_y_params)\n\u001B[1;32m   1553\u001B[0m     )\n\u001B[1;32m   1554\u001B[0m     copy_X \u001B[38;5;241m=\u001B[39m \u001B[38;5;28;01mFalse\u001B[39;00m\n\u001B[0;32m-> 1556\u001B[0m \u001B[43mcheck_consistent_length\u001B[49m\u001B[43m(\u001B[49m\u001B[43mX\u001B[49m\u001B[43m,\u001B[49m\u001B[43m \u001B[49m\u001B[43my\u001B[49m\u001B[43m)\u001B[49m\n\u001B[1;32m   1558\u001B[0m \u001B[38;5;28;01mif\u001B[39;00m \u001B[38;5;129;01mnot\u001B[39;00m \u001B[38;5;28mself\u001B[39m\u001B[38;5;241m.\u001B[39m_is_multitask():\n\u001B[1;32m   1559\u001B[0m     \u001B[38;5;28;01mif\u001B[39;00m y\u001B[38;5;241m.\u001B[39mndim \u001B[38;5;241m>\u001B[39m \u001B[38;5;241m1\u001B[39m \u001B[38;5;129;01mand\u001B[39;00m y\u001B[38;5;241m.\u001B[39mshape[\u001B[38;5;241m1\u001B[39m] \u001B[38;5;241m>\u001B[39m \u001B[38;5;241m1\u001B[39m:\n",
      "File \u001B[0;32m~/GitHub/Contest_MASL_2023/.venv/lib64/python3.12/site-packages/sklearn/utils/validation.py:407\u001B[0m, in \u001B[0;36mcheck_consistent_length\u001B[0;34m(*arrays)\u001B[0m\n\u001B[1;32m    405\u001B[0m uniques \u001B[38;5;241m=\u001B[39m np\u001B[38;5;241m.\u001B[39munique(lengths)\n\u001B[1;32m    406\u001B[0m \u001B[38;5;28;01mif\u001B[39;00m \u001B[38;5;28mlen\u001B[39m(uniques) \u001B[38;5;241m>\u001B[39m \u001B[38;5;241m1\u001B[39m:\n\u001B[0;32m--> 407\u001B[0m     \u001B[38;5;28;01mraise\u001B[39;00m \u001B[38;5;167;01mValueError\u001B[39;00m(\n\u001B[1;32m    408\u001B[0m         \u001B[38;5;124m\"\u001B[39m\u001B[38;5;124mFound input variables with inconsistent numbers of samples: \u001B[39m\u001B[38;5;132;01m%r\u001B[39;00m\u001B[38;5;124m\"\u001B[39m\n\u001B[1;32m    409\u001B[0m         \u001B[38;5;241m%\u001B[39m [\u001B[38;5;28mint\u001B[39m(l) \u001B[38;5;28;01mfor\u001B[39;00m l \u001B[38;5;129;01min\u001B[39;00m lengths]\n\u001B[1;32m    410\u001B[0m     )\n",
      "\u001B[0;31mValueError\u001B[0m: Found input variables with inconsistent numbers of samples: [50, 100]"
     ]
    }
   ],
   "source": [
    "B = 100\n",
    "\n",
    "I_1, I_2 = split_DataFrame(data)\n",
    "coefficients = applyLasso(I_1,y)\n",
    "print(f\"There are {len(coefficients)} non zero coefficients:\\n {coefficients}\")"
   ],
   "metadata": {
    "collapsed": false,
    "ExecuteTime": {
     "end_time": "2023-12-07T14:23:47.879320584Z",
     "start_time": "2023-12-07T14:23:47.540556380Z"
    }
   },
   "id": "93e2cc8b6d56eee8"
  },
  {
   "cell_type": "markdown",
   "source": [
    "# I_2 per OLS\n"
   ],
   "metadata": {
    "collapsed": false
   },
   "id": "30a27b0d2e3cc0b6"
  },
  {
   "cell_type": "code",
   "execution_count": null,
   "outputs": [],
   "source": [
    "coefficients_name = [coefficient[0] for coefficient in coefficients]\n",
    "\n",
    "X_I_2 = I_2.drop(\"y\",axis=1)\n",
    "y_I_2 = I_2[\"y\"]\n",
    "\n",
    "X_I_2 = X_I_2.loc[:,X_I_2.columns.isin(coefficients_name)]\n",
    "X_I_2"
   ],
   "metadata": {
    "collapsed": false,
    "ExecuteTime": {
     "start_time": "2023-12-07T14:23:47.884991886Z"
    }
   },
   "id": "b6a7e2449256953"
  },
  {
   "cell_type": "code",
   "execution_count": null,
   "outputs": [],
   "source": [
    "import statsmodels.api as sm\n",
    "\n",
    "X_I_2 = sm.add_constant(X_I_2)\n",
    "least_square = sm.OLS(y_I_2, X_I_2)\n",
    "results = least_square.fit()\n",
    "print(results.summary())"
   ],
   "metadata": {
    "collapsed": false,
    "ExecuteTime": {
     "start_time": "2023-12-07T14:23:47.889812022Z"
    }
   },
   "id": "ca94df7171504af"
  },
  {
   "cell_type": "code",
   "execution_count": null,
   "outputs": [],
   "source": [
    "results.conf_int(alpha=.05)"
   ],
   "metadata": {
    "collapsed": false,
    "ExecuteTime": {
     "start_time": "2023-12-07T14:23:47.902990866Z"
    }
   },
   "id": "9579444f6260f4ee"
  },
  {
   "cell_type": "code",
   "execution_count": null,
   "outputs": [],
   "source": [
    "results.pvalues"
   ],
   "metadata": {
    "collapsed": false,
    "ExecuteTime": {
     "start_time": "2023-12-07T14:23:47.903110795Z"
    }
   },
   "id": "a3ea104d26b0d5f2"
  },
  {
   "cell_type": "code",
   "execution_count": null,
   "outputs": [],
   "source": [
    "# Aggiustare i pvalue in base al numero di elementi in S(I_1)\n",
    "results.pvalues * len(coefficients)\n"
   ],
   "metadata": {
    "collapsed": false,
    "ExecuteTime": {
     "start_time": "2023-12-07T14:23:47.903168822Z"
    }
   },
   "id": "d04793df8954d197"
  },
  {
   "cell_type": "code",
   "execution_count": null,
   "outputs": [],
   "source": [
    "print(results.summary())"
   ],
   "metadata": {
    "collapsed": false,
    "ExecuteTime": {
     "start_time": "2023-12-07T14:23:47.903207546Z"
    }
   },
   "id": "7b4f213f9617da0"
  }
 ],
 "metadata": {
  "kernelspec": {
   "display_name": "Python 3",
   "language": "python",
   "name": "python3"
  },
  "language_info": {
   "codemirror_mode": {
    "name": "ipython",
    "version": 2
   },
   "file_extension": ".py",
   "mimetype": "text/x-python",
   "name": "python",
   "nbconvert_exporter": "python",
   "pygments_lexer": "ipython2",
   "version": "2.7.6"
  }
 },
 "nbformat": 4,
 "nbformat_minor": 5
}
