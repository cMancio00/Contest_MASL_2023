{
 "cells": [
  {
   "cell_type": "code",
   "execution_count": 312,
   "id": "initial_id",
   "metadata": {
    "collapsed": true,
    "ExecuteTime": {
     "end_time": "2023-12-09T14:19:42.291272169Z",
     "start_time": "2023-12-09T14:19:42.217485606Z"
    }
   },
   "outputs": [],
   "source": [
    "import numpy as np\n",
    "import pandas as pd\n",
    "import math\n",
    "from sklearn.linear_model import ElasticNetCV\n",
    "import statsmodels.api as sm\n",
    "import warnings\n",
    "warnings.filterwarnings(\"ignore\")\n",
    "\n",
    "seed = 420\n",
    "np.random.seed(seed)"
   ]
  },
  {
   "cell_type": "code",
   "execution_count": 313,
   "outputs": [],
   "source": [
    "def generate_data(dimention:int,data_len:int)->pd.DataFrame:\n",
    "    variables = np.array(range(dimention),dtype=float)\n",
    "    data = pd.DataFrame()\n",
    "    for idx, variable in enumerate(variables):\n",
    "        mu, sigma = variable, math.sqrt(variable + 1)\n",
    "        generated = np.random.normal(mu,sigma,data_len)\n",
    "        data[variable] = generated\n",
    "    return data.copy()\n",
    "\n",
    "def build_response(data:pd.DataFrame,colums_to_include:list,values:list,name = \"y\")->pd.Series:\n",
    "    if np.shape(colums_to_include) != np.shape(values):\n",
    "        raise ValueError('Columns and values have different shapes')\n",
    "    response = np.random.normal(0,1,np.shape(data)[0])\n",
    "    for i, column in enumerate(colums_to_include):\n",
    "        response += data[column]*values[i]\n",
    "    return pd.Series(name=name,data = response)"
   ],
   "metadata": {
    "collapsed": false,
    "ExecuteTime": {
     "end_time": "2023-12-09T14:19:42.295877556Z",
     "start_time": "2023-12-09T14:19:42.243567465Z"
    }
   },
   "id": "bff6b7642fae644c"
  },
  {
   "cell_type": "markdown",
   "source": [
    "Il vero modello è definito come $y = 16\\beta_5 + 8\\beta_{10} + 4\\beta_{15} + 2\\beta_{20} + \\varepsilon$.\n",
    "\n",
    "> La $i$-esima variabile è campionata da $N ~ (i,\\sqrt{i})$."
   ],
   "metadata": {
    "collapsed": false
   },
   "id": "2f72d2f352f71392"
  },
  {
   "cell_type": "code",
   "execution_count": 314,
   "outputs": [],
   "source": [
    "p = 71\n",
    "data_len = 60 \n",
    "toUse = [5,10,15,20]\n",
    "values = [16,8,4,2]\n",
    "B = 100\n",
    "\n",
    "data = generate_data(dimention = p,\n",
    "                     data_len = data_len)\n",
    "y = build_response(data,toUse,values)\n",
    "data[\"y\"] = y\n",
    "data.columns = data.columns.astype(str)\n",
    "\n",
    "p_values = np.ones(shape=(B,p+1), dtype=float)"
   ],
   "metadata": {
    "collapsed": false,
    "ExecuteTime": {
     "end_time": "2023-12-09T14:19:42.389345429Z",
     "start_time": "2023-12-09T14:19:42.313567708Z"
    }
   },
   "id": "e40d04a352218306"
  },
  {
   "cell_type": "code",
   "execution_count": 315,
   "outputs": [],
   "source": [
    "rng = np.random.default_rng(seed)\n",
    "\n",
    "def sample_DataFrame(df:pd.DataFrame,sample_percentage_size:float)->pd.DataFrame:\n",
    "    \"\"\"\"Funzione per campionare una percentuale dei dati dal DataSet.\"\"\"\n",
    "    if not (0.0 < sample_percentage_size < 1):\n",
    "        raise AttributeError(f\"sample_percentage_size must be in (0,1), got {sample_percentage_size} instead.\")\n",
    "    sample_size = int(df.shape[0] * sample_percentage_size)\n",
    "    sample_idx = rng.integers(low=0,high=df.shape[0],size=sample_size)\n",
    "    return df.iloc[sample_idx]\n",
    "\n",
    "def split_DataFrame(df:pd.DataFrame, sample_percentage_size=0.5, response_name = \"y\")->tuple[pd.DataFrame,pd.DataFrame]:\n",
    "    \"\"\"Funzione per dividere il Dataset in 2 parti. Il primo Dataset ha elementi pari alla percentuale fornita.\"\"\"\n",
    "    y = df[response_name]\n",
    "    df = df.drop(response_name, axis=1)\n",
    "    \n",
    "    df1 = sample_DataFrame(df,sample_percentage_size)\n",
    "    df1[response_name] = y.iloc[df1.index]\n",
    "    \n",
    "    df2 = df.iloc[~df1.index]\n",
    "    df2[response_name] = y.iloc[~df1.index]\n",
    "    \n",
    "    #print(f\"First DataFrame has {df1.shape[0]} items, Second DataFrame has {df2.shape[0]} items.\")\n",
    "    return df1,df2"
   ],
   "metadata": {
    "collapsed": false,
    "ExecuteTime": {
     "end_time": "2023-12-09T14:19:42.442801155Z",
     "start_time": "2023-12-09T14:19:42.364732245Z"
    }
   },
   "id": "52b5d0a1e231fab8"
  },
  {
   "cell_type": "markdown",
   "source": [
    "# Passi della simulazione:\n",
    "\n",
    "**Ripeti B volte da 1 a 4**\n",
    "\n",
    "1. Dividere il DataSet in due parti uguali $I_1$ e $I_2$\n",
    "2. Applicare uno stimatore regolarizzato a $I_1$ ed estrarre i coefficienti diversi da zero\n",
    "3. Applicare a $I_2$ un OLS con soli i parametri ottenuti da $I_2$\n",
    "4. Definito $s = |\\{\\beta \\ne 0, \\forall \\beta \\in I_1\\}|$ e $P_{raw,j}$ il j-esimo p-value\n",
    "- Correggere i p-value ottenuti con $P_{corr,j} = min(P_{raw,j}*s,1)$\n",
    "5. Aggregare i $P_{corr}$ della simulazione utilizzando:\n",
    "- media\n",
    "- mediana\n",
    "- min-max\n",
    "\n",
    "> Gli intervalli di confidenza possono essere aggregati con gli stessi metodi del punto 5.\n",
    "\n",
    "La ripetizione (solitamente con $B = 50$ o $B = 100$) serve per avere dei risultati riproducibili indipendentemente dal seme usato."
   ],
   "metadata": {
    "collapsed": false
   },
   "id": "3b29fc556dd2467e"
  },
  {
   "cell_type": "code",
   "execution_count": 316,
   "outputs": [],
   "source": [
    "def applyLasso(data:pd.DataFrame,response = \"y\")-> tuple[int,float]:\n",
    "    X = data.drop(response,axis=1)\n",
    "    y = data[response]\n",
    "    lasso = ElasticNetCV(cv=5,random_state=seed,l1_ratio = 1)\n",
    "    lasso.fit(X, y)\n",
    "    print(f\"Best alpha is: {lasso.alpha_}\")\n",
    "    return nonZeroCoeffiecients(X.columns,lasso.coef_)\n",
    "\n",
    "def nonZeroCoeffiecients(dataColumns,regression_coefficients):\n",
    "    coefficients = list(zip(dataColumns,regression_coefficients))\n",
    "    coefficients_copy = coefficients.copy()\n",
    "    for coefficient in coefficients_copy:\n",
    "        if np.isclose(coefficient[1],0.0):\n",
    "            coefficients.remove(coefficient)\n",
    "    return coefficients"
   ],
   "metadata": {
    "collapsed": false,
    "ExecuteTime": {
     "end_time": "2023-12-09T14:19:42.443574888Z",
     "start_time": "2023-12-09T14:19:42.394116512Z"
    }
   },
   "id": "5385d990eac0f264"
  },
  {
   "cell_type": "code",
   "execution_count": 316,
   "outputs": [],
   "source": [
    "\n",
    "\n"
   ],
   "metadata": {
    "collapsed": false,
    "ExecuteTime": {
     "end_time": "2023-12-09T14:19:42.444213305Z",
     "start_time": "2023-12-09T14:19:42.394344217Z"
    }
   },
   "id": "93e2cc8b6d56eee8"
  },
  {
   "cell_type": "code",
   "execution_count": 317,
   "outputs": [],
   "source": [
    "def useNonZeroCoefficient(data:pd.DataFrame,nonZeroCoefficients:tuple[str,float],response = \"y\"):\n",
    "    coefficients_name = [coefficient[0] for coefficient in nonZeroCoefficients]\n",
    "    X = data.drop(response,axis=1)\n",
    "    y = data[\"y\"]\n",
    "    X = X[coefficients_name]\n",
    "    return X, y\n",
    "\n",
    "def applyOLS(data:pd.DataFrame,nonZeroCoefficients:tuple[str,float],response = \"y\"):\n",
    "    X, y = useNonZeroCoefficient(data,nonZeroCoefficients)\n",
    "    X = sm.add_constant(X)\n",
    "    least_square = sm.OLS(y, X)\n",
    "    least_square.fit()\n",
    "    return least_square.fit()\n"
   ],
   "metadata": {
    "collapsed": false,
    "ExecuteTime": {
     "end_time": "2023-12-09T14:19:42.473094752Z",
     "start_time": "2023-12-09T14:19:42.434995087Z"
    }
   },
   "id": "b6a7e2449256953"
  },
  {
   "cell_type": "code",
   "execution_count": 318,
   "outputs": [],
   "source": [
    "def correct_pvalue(row,correction):\n",
    "    return min(row*correction,1.0)\n",
    "\n",
    "def updadte_pvalues(matrix,values,correction,simulation_number):\n",
    "    pvalues_indexs = values.index.tolist()\n",
    "    for index in pvalues_indexs:\n",
    "        if index == \"const\":\n",
    "            matrix[simulation_number][-1] = correct_pvalue(values[index],correction)\n",
    "        else:\n",
    "            matrix[simulation_number][int(index)] = correct_pvalue(values[index],correction)\n",
    "    return matrix"
   ],
   "metadata": {
    "collapsed": false,
    "ExecuteTime": {
     "end_time": "2023-12-09T14:19:42.509822697Z",
     "start_time": "2023-12-09T14:19:42.453814277Z"
    }
   },
   "id": "d7b1e99b8871269f"
  },
  {
   "cell_type": "code",
   "execution_count": 319,
   "outputs": [
    {
     "name": "stdout",
     "output_type": "stream",
     "text": [
      "Best alpha is: 75.94812095683231\n",
      "There are 6 in simulation 0.\n",
      "Best alpha is: 0.1328222850460807\n",
      "There are 27 in simulation 1.\n",
      "Best alpha is: 7.191139945917668\n",
      "There are 17 in simulation 2.\n",
      "Best alpha is: 151.95407593460732\n",
      "There are 0 in simulation 3.\n",
      "Best alpha is: 8.588405541427399\n",
      "There are 19 in simulation 4.\n",
      "Best alpha is: 30.03748186833125\n",
      "There are 17 in simulation 5.\n",
      "Best alpha is: 140.0256252660825\n",
      "There are 0 in simulation 6.\n",
      "Best alpha is: 60.87814048622095\n",
      "There are 8 in simulation 7.\n",
      "Best alpha is: 2.8104169866743103\n",
      "There are 18 in simulation 8.\n",
      "Best alpha is: 93.89156098162185\n",
      "There are 3 in simulation 9.\n",
      "Best alpha is: 13.498606750311646\n",
      "There are 14 in simulation 10.\n",
      "Best alpha is: 133.5442385548687\n",
      "There are 0 in simulation 11.\n",
      "Best alpha is: 153.5005619087772\n",
      "There are 0 in simulation 12.\n",
      "Best alpha is: 2.5387707018114862\n",
      "There are 19 in simulation 13.\n",
      "Best alpha is: 20.28302035149281\n",
      "There are 17 in simulation 14.\n",
      "Best alpha is: 0.13421943973469544\n",
      "There are 26 in simulation 15.\n",
      "Best alpha is: 0.10958821014373112\n",
      "There are 24 in simulation 16.\n",
      "Best alpha is: 9.514347312338044\n",
      "There are 14 in simulation 17.\n",
      "Best alpha is: 15.063620425965278\n",
      "There are 17 in simulation 18.\n",
      "Best alpha is: 172.871689667574\n",
      "There are 1 in simulation 19.\n",
      "Best alpha is: 0.1637784932769158\n",
      "There are 26 in simulation 20.\n",
      "Best alpha is: 102.0108516599642\n",
      "There are 3 in simulation 21.\n",
      "Best alpha is: 147.00650211013323\n",
      "There are 0 in simulation 22.\n",
      "Best alpha is: 140.5235864237321\n",
      "There are 0 in simulation 23.\n",
      "Best alpha is: 13.247988177786965\n",
      "There are 16 in simulation 24.\n",
      "Best alpha is: 46.38272835372593\n",
      "There are 12 in simulation 25.\n",
      "Best alpha is: 16.261957613167596\n",
      "There are 11 in simulation 26.\n",
      "Best alpha is: 67.88366396109791\n",
      "There are 7 in simulation 27.\n",
      "Best alpha is: 12.912336775724752\n",
      "There are 16 in simulation 28.\n",
      "Best alpha is: 0.17003371456702823\n",
      "There are 29 in simulation 29.\n",
      "Best alpha is: 0.6949440665033668\n",
      "There are 24 in simulation 30.\n",
      "Best alpha is: 22.606163453192952\n",
      "There are 14 in simulation 31.\n",
      "Best alpha is: 17.736435062209317\n",
      "There are 14 in simulation 32.\n",
      "Best alpha is: 3.159737029029849\n",
      "There are 24 in simulation 33.\n",
      "Best alpha is: 14.313770941708281\n",
      "There are 16 in simulation 34.\n",
      "Best alpha is: 35.21751528464338\n",
      "There are 13 in simulation 35.\n",
      "Best alpha is: 119.69448204980151\n",
      "There are 0 in simulation 36.\n",
      "Best alpha is: 146.25523437483255\n",
      "There are 1 in simulation 37.\n",
      "Best alpha is: 3.0968270791434835\n",
      "There are 18 in simulation 38.\n",
      "Best alpha is: 22.6487664613074\n",
      "There are 13 in simulation 39.\n",
      "Best alpha is: 1.5381488477724343\n",
      "There are 22 in simulation 40.\n",
      "Best alpha is: 9.500972729208156\n",
      "There are 18 in simulation 41.\n",
      "Best alpha is: 4.191342402045956\n",
      "There are 22 in simulation 42.\n",
      "Best alpha is: 42.022997298401265\n",
      "There are 9 in simulation 43.\n",
      "Best alpha is: 14.132664606665331\n",
      "There are 13 in simulation 44.\n",
      "Best alpha is: 0.18542688890154116\n",
      "There are 26 in simulation 45.\n",
      "Best alpha is: 103.23388010947016\n",
      "There are 4 in simulation 46.\n",
      "Best alpha is: 3.7858600842645718\n",
      "There are 19 in simulation 47.\n",
      "Best alpha is: 10.68470469068231\n",
      "There are 16 in simulation 48.\n",
      "Best alpha is: 0.23574957250109282\n",
      "There are 27 in simulation 49.\n",
      "Best alpha is: 4.724227102101808\n",
      "There are 24 in simulation 50.\n",
      "Best alpha is: 7.013274603530891\n",
      "There are 16 in simulation 51.\n",
      "Best alpha is: 18.20130984556149\n",
      "There are 15 in simulation 52.\n",
      "Best alpha is: 165.80463021534896\n",
      "There are 0 in simulation 53.\n",
      "Best alpha is: 74.57509865090135\n",
      "There are 4 in simulation 54.\n",
      "Best alpha is: 0.12477051330956009\n",
      "There are 26 in simulation 55.\n",
      "Best alpha is: 41.09868051957706\n",
      "There are 12 in simulation 56.\n",
      "Best alpha is: 52.762934743382665\n",
      "There are 6 in simulation 57.\n",
      "Best alpha is: 19.26348623816688\n",
      "There are 12 in simulation 58.\n",
      "Best alpha is: 2.1115347605494192\n",
      "There are 22 in simulation 59.\n",
      "Best alpha is: 40.55100376837954\n",
      "There are 10 in simulation 60.\n",
      "Best alpha is: 22.703451344775168\n",
      "There are 13 in simulation 61.\n",
      "Best alpha is: 0.15074779628076146\n",
      "There are 28 in simulation 62.\n",
      "Best alpha is: 30.68661305707268\n",
      "There are 9 in simulation 63.\n",
      "Best alpha is: 0.17907264695939748\n",
      "There are 23 in simulation 64.\n",
      "Best alpha is: 6.61503790778778\n",
      "There are 19 in simulation 65.\n",
      "Best alpha is: 76.24902792664653\n",
      "There are 6 in simulation 66.\n",
      "Best alpha is: 20.619423423501242\n",
      "There are 14 in simulation 67.\n",
      "Best alpha is: 26.25485327841911\n",
      "There are 13 in simulation 68.\n",
      "Best alpha is: 2.1847709506565627\n",
      "There are 24 in simulation 69.\n",
      "Best alpha is: 0.1659349354358286\n",
      "There are 24 in simulation 70.\n",
      "Best alpha is: 13.359306179038164\n",
      "There are 14 in simulation 71.\n",
      "Best alpha is: 119.4747784729096\n",
      "There are 0 in simulation 72.\n",
      "Best alpha is: 149.86766757616186\n",
      "There are 0 in simulation 73.\n",
      "Best alpha is: 174.18867674740875\n",
      "There are 0 in simulation 74.\n",
      "Best alpha is: 0.8200381163055672\n",
      "There are 21 in simulation 75.\n",
      "Best alpha is: 37.42188777058048\n",
      "There are 11 in simulation 76.\n",
      "Best alpha is: 10.491604337848756\n",
      "There are 19 in simulation 77.\n",
      "Best alpha is: 7.183362737590472\n",
      "There are 19 in simulation 78.\n",
      "Best alpha is: 12.511270449640445\n",
      "There are 17 in simulation 79.\n",
      "Best alpha is: 1.1075325402835419\n",
      "There are 22 in simulation 80.\n",
      "Best alpha is: 101.57838238449129\n",
      "There are 2 in simulation 81.\n",
      "Best alpha is: 83.3232434032661\n",
      "There are 4 in simulation 82.\n",
      "Best alpha is: 7.936914964763197\n",
      "There are 21 in simulation 83.\n",
      "Best alpha is: 7.87348004754247\n",
      "There are 18 in simulation 84.\n",
      "Best alpha is: 102.77296890056631\n",
      "There are 3 in simulation 85.\n",
      "Best alpha is: 144.80848566997514\n",
      "There are 0 in simulation 86.\n",
      "Best alpha is: 12.968954098623634\n",
      "There are 17 in simulation 87.\n",
      "Best alpha is: 25.43462587417217\n",
      "There are 13 in simulation 88.\n",
      "Best alpha is: 41.065172181343485\n",
      "There are 12 in simulation 89.\n",
      "Best alpha is: 229.4659968045265\n",
      "There are 0 in simulation 90.\n",
      "Best alpha is: 151.47834396757895\n",
      "There are 0 in simulation 91.\n",
      "Best alpha is: 26.587962841994063\n",
      "There are 17 in simulation 92.\n",
      "Best alpha is: 100.2621525574656\n",
      "There are 4 in simulation 93.\n",
      "Best alpha is: 12.940465438933789\n",
      "There are 14 in simulation 94.\n",
      "Best alpha is: 27.71218166151679\n",
      "There are 10 in simulation 95.\n",
      "Best alpha is: 184.78959735403652\n",
      "There are 1 in simulation 96.\n",
      "Best alpha is: 25.267149795753927\n",
      "There are 14 in simulation 97.\n",
      "Best alpha is: 3.899143375562149\n",
      "There are 21 in simulation 98.\n",
      "Best alpha is: 100.40983052898606\n",
      "There are 0 in simulation 99.\n"
     ]
    },
    {
     "data": {
      "text/plain": "array([[1.00000000e+00, 1.00000000e+00, 1.00000000e+00, ...,\n        1.00000000e+00, 3.96232900e-01, 1.00000000e+00],\n       [1.00000000e+00, 1.00000000e+00, 1.00000000e+00, ...,\n        1.00000000e+00, 3.48287129e-23, 4.87619576e-23],\n       [1.00000000e+00, 1.00000000e+00, 1.00000000e+00, ...,\n        1.00000000e+00, 1.00000000e+00, 1.00000000e+00],\n       ...,\n       [1.00000000e+00, 1.00000000e+00, 1.00000000e+00, ...,\n        1.00000000e+00, 1.00000000e+00, 1.00000000e+00],\n       [1.00000000e+00, 1.00000000e+00, 1.00000000e+00, ...,\n        1.00000000e+00, 1.00000000e+00, 1.00000000e+00],\n       [1.00000000e+00, 1.00000000e+00, 1.00000000e+00, ...,\n        1.00000000e+00, 1.00000000e+00, 0.00000000e+00]])"
     },
     "execution_count": 319,
     "metadata": {},
     "output_type": "execute_result"
    }
   ],
   "source": [
    "for simulation_number in range(B):\n",
    "    I_1, I_2 = split_DataFrame(data)\n",
    "    coefficients = applyLasso(I_1)\n",
    "    print(f\"There are {len(coefficients)} in simulation {simulation_number}.\")\n",
    "    results = applyOLS(I_2,coefficients)\n",
    "    p_values = updadte_pvalues(p_values,results.pvalues,len(coefficients),simulation_number)\n",
    "\n",
    "p_values\n"
   ],
   "metadata": {
    "collapsed": false,
    "ExecuteTime": {
     "end_time": "2023-12-09T14:19:49.311365793Z",
     "start_time": "2023-12-09T14:19:42.510358730Z"
    }
   },
   "id": "ca94df7171504af"
  },
  {
   "cell_type": "code",
   "execution_count": 320,
   "outputs": [
    {
     "data": {
      "text/plain": "                0           1\nconst  266.519369  298.014126",
      "text/html": "<div>\n<style scoped>\n    .dataframe tbody tr th:only-of-type {\n        vertical-align: middle;\n    }\n\n    .dataframe tbody tr th {\n        vertical-align: top;\n    }\n\n    .dataframe thead th {\n        text-align: right;\n    }\n</style>\n<table border=\"1\" class=\"dataframe\">\n  <thead>\n    <tr style=\"text-align: right;\">\n      <th></th>\n      <th>0</th>\n      <th>1</th>\n    </tr>\n  </thead>\n  <tbody>\n    <tr>\n      <th>const</th>\n      <td>266.519369</td>\n      <td>298.014126</td>\n    </tr>\n  </tbody>\n</table>\n</div>"
     },
     "execution_count": 320,
     "metadata": {},
     "output_type": "execute_result"
    }
   ],
   "source": [
    "results.conf_int(alpha=.05)"
   ],
   "metadata": {
    "collapsed": false,
    "ExecuteTime": {
     "end_time": "2023-12-09T14:19:49.322245769Z",
     "start_time": "2023-12-09T14:19:49.309035468Z"
    }
   },
   "id": "9579444f6260f4ee"
  },
  {
   "cell_type": "code",
   "execution_count": 321,
   "outputs": [
    {
     "data": {
      "text/plain": "Index(['const'], dtype='object')"
     },
     "execution_count": 321,
     "metadata": {},
     "output_type": "execute_result"
    }
   ],
   "source": [
    "results.pvalues.index"
   ],
   "metadata": {
    "collapsed": false,
    "ExecuteTime": {
     "end_time": "2023-12-09T14:19:49.353363656Z",
     "start_time": "2023-12-09T14:19:49.315606462Z"
    }
   },
   "id": "a3ea104d26b0d5f2"
  },
  {
   "cell_type": "code",
   "execution_count": 322,
   "outputs": [
    {
     "data": {
      "text/plain": "const    0.0\ndtype: float64"
     },
     "execution_count": 322,
     "metadata": {},
     "output_type": "execute_result"
    }
   ],
   "source": [
    "# Aggiustare i pvalue in base al numero di elementi in S(I_1)\n",
    "results.pvalues * len(coefficients)\n"
   ],
   "metadata": {
    "collapsed": false,
    "ExecuteTime": {
     "end_time": "2023-12-09T14:19:49.401787487Z",
     "start_time": "2023-12-09T14:19:49.343482724Z"
    }
   },
   "id": "d04793df8954d197"
  },
  {
   "cell_type": "code",
   "execution_count": 322,
   "outputs": [],
   "source": [
    "\n",
    "\n",
    "\n",
    "\n",
    "\n"
   ],
   "metadata": {
    "collapsed": false,
    "ExecuteTime": {
     "end_time": "2023-12-09T14:19:49.425366999Z",
     "start_time": "2023-12-09T14:19:49.357693737Z"
    }
   },
   "id": "da01ea178032fee0"
  }
 ],
 "metadata": {
  "kernelspec": {
   "display_name": "Python 3",
   "language": "python",
   "name": "python3"
  },
  "language_info": {
   "codemirror_mode": {
    "name": "ipython",
    "version": 2
   },
   "file_extension": ".py",
   "mimetype": "text/x-python",
   "name": "python",
   "nbconvert_exporter": "python",
   "pygments_lexer": "ipython2",
   "version": "2.7.6"
  }
 },
 "nbformat": 4,
 "nbformat_minor": 5
}
