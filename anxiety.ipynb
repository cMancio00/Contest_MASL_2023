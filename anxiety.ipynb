{
 "cells": [
  {
   "cell_type": "code",
   "execution_count": 13,
   "outputs": [],
   "source": [
    "import pandas as pd\n"
   ],
   "metadata": {
    "collapsed": false,
    "ExecuteTime": {
     "end_time": "2023-11-25T09:15:21.163263949Z",
     "start_time": "2023-11-25T09:15:21.111220855Z"
    }
   }
  },
  {
   "cell_type": "code",
   "execution_count": 8,
   "outputs": [
    {
     "data": {
      "text/plain": "    ID No        Age  Height (m)  Weight (kgs)        BMI  \\\n0   PSP02  36.000000        1.55          57.0  23.725286   \n1   PSP03  37.000000        1.71          76.0  25.990903   \n2   PSP04  36.000000        1.68          64.0  22.675737   \n3   PSP05  40.000000        1.55          59.0  24.557752   \n4   PSP06  29.000000        1.56          79.0  32.462196   \n..    ...        ...         ...           ...        ...   \n68   SB29  44.000000      161.50          70.5  25.200000   \n69   SB30  45.000000      184.00          91.9  27.100000   \n70   SB31  28.000000      159.50          67.1  26.300000   \n71    NaN  39.957746         NaN           NaN        NaN   \n72    NaN  11.539295         NaN           NaN        NaN   \n\n    working hours per week  Gender  Total anxiety score  \\\n0                     32.0     2.0                  2.0   \n1                     11.5     2.0                  3.0   \n2                     42.5     1.0                 10.0   \n3                     22.0     2.0                  9.0   \n4                     37.0     1.0                  2.0   \n..                     ...     ...                  ...   \n68                    35.0     2.0                  7.0   \n69                    35.0     1.0                  5.0   \n70                    35.0     2.0                 10.0   \n71                     NaN     NaN                  NaN   \n72                     NaN     NaN                  NaN   \n\n    Total Depression score     RP  ...  Time standing (h)  Time stepping (h)  \\\n0                      0.0  100.0  ...             4.2825           1.947500   \n1                      3.0  100.0  ...             6.7400           3.273333   \n2                      9.0  100.0  ...             5.6925           1.862500   \n3                      3.0  100.0  ...             3.7700           1.706667   \n4                      1.0  100.0  ...             2.5700           1.630000   \n..                     ...    ...  ...                ...                ...   \n68                     0.0  100.0  ...             2.3220           1.972000   \n69                     1.0  100.0  ...             3.1350           2.867500   \n70                     6.0    0.0  ...             5.2275           2.425000   \n71                     NaN    NaN  ...                NaN                NaN   \n72                     NaN    NaN  ...                NaN                NaN   \n\n      Step count  Sit to stand transitions  Average weekend day  \\\n0   10825.500000                 64.000000                  NaN   \n1   13239.333333                 82.333333                  NaN   \n2    9120.500000                 36.000000                  NaN   \n3    8694.666667                 75.333333                  NaN   \n4    8693.000000                 42.500000                  NaN   \n..           ...                       ...                  ...   \n68  11926.800000                 52.000000                  NaN   \n69  17242.500000                 46.000000                  NaN   \n70  12194.500000                 78.500000                  NaN   \n71           NaN                       NaN                  NaN   \n72           NaN                       NaN                  NaN   \n\n    Sitting only.1  Time standing (h).1  Time stepping (h).1  Step count.1  \\\n0            7.175                5.675                1.975        8256.0   \n1            9.520                5.190                2.125        7959.0   \n2            6.695                4.550                1.635        8707.0   \n3           10.590                1.840                0.575        2401.0   \n4            8.445                4.040                3.555       18977.0   \n..             ...                  ...                  ...           ...   \n68          10.165                4.100                1.290        6351.0   \n69          13.550                2.755                1.700       10245.0   \n70           8.355                6.520                2.775       13851.0   \n71             NaN                  NaN                  NaN           NaN   \n72             NaN                  NaN                  NaN           NaN   \n\n    Sit to stand transitions.1  \n0                         85.5  \n1                         75.0  \n2                         32.5  \n3                         40.5  \n4                         65.5  \n..                         ...  \n68                        53.5  \n69                        51.5  \n70                        61.0  \n71                         NaN  \n72                         NaN  \n\n[73 rows x 29 columns]",
      "text/html": "<div>\n<style scoped>\n    .dataframe tbody tr th:only-of-type {\n        vertical-align: middle;\n    }\n\n    .dataframe tbody tr th {\n        vertical-align: top;\n    }\n\n    .dataframe thead th {\n        text-align: right;\n    }\n</style>\n<table border=\"1\" class=\"dataframe\">\n  <thead>\n    <tr style=\"text-align: right;\">\n      <th></th>\n      <th>ID No</th>\n      <th>Age</th>\n      <th>Height (m)</th>\n      <th>Weight (kgs)</th>\n      <th>BMI</th>\n      <th>working hours per week</th>\n      <th>Gender</th>\n      <th>Total anxiety score</th>\n      <th>Total Depression score</th>\n      <th>RP</th>\n      <th>...</th>\n      <th>Time standing (h)</th>\n      <th>Time stepping (h)</th>\n      <th>Step count</th>\n      <th>Sit to stand transitions</th>\n      <th>Average weekend day</th>\n      <th>Sitting only.1</th>\n      <th>Time standing (h).1</th>\n      <th>Time stepping (h).1</th>\n      <th>Step count.1</th>\n      <th>Sit to stand transitions.1</th>\n    </tr>\n  </thead>\n  <tbody>\n    <tr>\n      <th>0</th>\n      <td>PSP02</td>\n      <td>36.000000</td>\n      <td>1.55</td>\n      <td>57.0</td>\n      <td>23.725286</td>\n      <td>32.0</td>\n      <td>2.0</td>\n      <td>2.0</td>\n      <td>0.0</td>\n      <td>100.0</td>\n      <td>...</td>\n      <td>4.2825</td>\n      <td>1.947500</td>\n      <td>10825.500000</td>\n      <td>64.000000</td>\n      <td>NaN</td>\n      <td>7.175</td>\n      <td>5.675</td>\n      <td>1.975</td>\n      <td>8256.0</td>\n      <td>85.5</td>\n    </tr>\n    <tr>\n      <th>1</th>\n      <td>PSP03</td>\n      <td>37.000000</td>\n      <td>1.71</td>\n      <td>76.0</td>\n      <td>25.990903</td>\n      <td>11.5</td>\n      <td>2.0</td>\n      <td>3.0</td>\n      <td>3.0</td>\n      <td>100.0</td>\n      <td>...</td>\n      <td>6.7400</td>\n      <td>3.273333</td>\n      <td>13239.333333</td>\n      <td>82.333333</td>\n      <td>NaN</td>\n      <td>9.520</td>\n      <td>5.190</td>\n      <td>2.125</td>\n      <td>7959.0</td>\n      <td>75.0</td>\n    </tr>\n    <tr>\n      <th>2</th>\n      <td>PSP04</td>\n      <td>36.000000</td>\n      <td>1.68</td>\n      <td>64.0</td>\n      <td>22.675737</td>\n      <td>42.5</td>\n      <td>1.0</td>\n      <td>10.0</td>\n      <td>9.0</td>\n      <td>100.0</td>\n      <td>...</td>\n      <td>5.6925</td>\n      <td>1.862500</td>\n      <td>9120.500000</td>\n      <td>36.000000</td>\n      <td>NaN</td>\n      <td>6.695</td>\n      <td>4.550</td>\n      <td>1.635</td>\n      <td>8707.0</td>\n      <td>32.5</td>\n    </tr>\n    <tr>\n      <th>3</th>\n      <td>PSP05</td>\n      <td>40.000000</td>\n      <td>1.55</td>\n      <td>59.0</td>\n      <td>24.557752</td>\n      <td>22.0</td>\n      <td>2.0</td>\n      <td>9.0</td>\n      <td>3.0</td>\n      <td>100.0</td>\n      <td>...</td>\n      <td>3.7700</td>\n      <td>1.706667</td>\n      <td>8694.666667</td>\n      <td>75.333333</td>\n      <td>NaN</td>\n      <td>10.590</td>\n      <td>1.840</td>\n      <td>0.575</td>\n      <td>2401.0</td>\n      <td>40.5</td>\n    </tr>\n    <tr>\n      <th>4</th>\n      <td>PSP06</td>\n      <td>29.000000</td>\n      <td>1.56</td>\n      <td>79.0</td>\n      <td>32.462196</td>\n      <td>37.0</td>\n      <td>1.0</td>\n      <td>2.0</td>\n      <td>1.0</td>\n      <td>100.0</td>\n      <td>...</td>\n      <td>2.5700</td>\n      <td>1.630000</td>\n      <td>8693.000000</td>\n      <td>42.500000</td>\n      <td>NaN</td>\n      <td>8.445</td>\n      <td>4.040</td>\n      <td>3.555</td>\n      <td>18977.0</td>\n      <td>65.5</td>\n    </tr>\n    <tr>\n      <th>...</th>\n      <td>...</td>\n      <td>...</td>\n      <td>...</td>\n      <td>...</td>\n      <td>...</td>\n      <td>...</td>\n      <td>...</td>\n      <td>...</td>\n      <td>...</td>\n      <td>...</td>\n      <td>...</td>\n      <td>...</td>\n      <td>...</td>\n      <td>...</td>\n      <td>...</td>\n      <td>...</td>\n      <td>...</td>\n      <td>...</td>\n      <td>...</td>\n      <td>...</td>\n      <td>...</td>\n    </tr>\n    <tr>\n      <th>68</th>\n      <td>SB29</td>\n      <td>44.000000</td>\n      <td>161.50</td>\n      <td>70.5</td>\n      <td>25.200000</td>\n      <td>35.0</td>\n      <td>2.0</td>\n      <td>7.0</td>\n      <td>0.0</td>\n      <td>100.0</td>\n      <td>...</td>\n      <td>2.3220</td>\n      <td>1.972000</td>\n      <td>11926.800000</td>\n      <td>52.000000</td>\n      <td>NaN</td>\n      <td>10.165</td>\n      <td>4.100</td>\n      <td>1.290</td>\n      <td>6351.0</td>\n      <td>53.5</td>\n    </tr>\n    <tr>\n      <th>69</th>\n      <td>SB30</td>\n      <td>45.000000</td>\n      <td>184.00</td>\n      <td>91.9</td>\n      <td>27.100000</td>\n      <td>35.0</td>\n      <td>1.0</td>\n      <td>5.0</td>\n      <td>1.0</td>\n      <td>100.0</td>\n      <td>...</td>\n      <td>3.1350</td>\n      <td>2.867500</td>\n      <td>17242.500000</td>\n      <td>46.000000</td>\n      <td>NaN</td>\n      <td>13.550</td>\n      <td>2.755</td>\n      <td>1.700</td>\n      <td>10245.0</td>\n      <td>51.5</td>\n    </tr>\n    <tr>\n      <th>70</th>\n      <td>SB31</td>\n      <td>28.000000</td>\n      <td>159.50</td>\n      <td>67.1</td>\n      <td>26.300000</td>\n      <td>35.0</td>\n      <td>2.0</td>\n      <td>10.0</td>\n      <td>6.0</td>\n      <td>0.0</td>\n      <td>...</td>\n      <td>5.2275</td>\n      <td>2.425000</td>\n      <td>12194.500000</td>\n      <td>78.500000</td>\n      <td>NaN</td>\n      <td>8.355</td>\n      <td>6.520</td>\n      <td>2.775</td>\n      <td>13851.0</td>\n      <td>61.0</td>\n    </tr>\n    <tr>\n      <th>71</th>\n      <td>NaN</td>\n      <td>39.957746</td>\n      <td>NaN</td>\n      <td>NaN</td>\n      <td>NaN</td>\n      <td>NaN</td>\n      <td>NaN</td>\n      <td>NaN</td>\n      <td>NaN</td>\n      <td>NaN</td>\n      <td>...</td>\n      <td>NaN</td>\n      <td>NaN</td>\n      <td>NaN</td>\n      <td>NaN</td>\n      <td>NaN</td>\n      <td>NaN</td>\n      <td>NaN</td>\n      <td>NaN</td>\n      <td>NaN</td>\n      <td>NaN</td>\n    </tr>\n    <tr>\n      <th>72</th>\n      <td>NaN</td>\n      <td>11.539295</td>\n      <td>NaN</td>\n      <td>NaN</td>\n      <td>NaN</td>\n      <td>NaN</td>\n      <td>NaN</td>\n      <td>NaN</td>\n      <td>NaN</td>\n      <td>NaN</td>\n      <td>...</td>\n      <td>NaN</td>\n      <td>NaN</td>\n      <td>NaN</td>\n      <td>NaN</td>\n      <td>NaN</td>\n      <td>NaN</td>\n      <td>NaN</td>\n      <td>NaN</td>\n      <td>NaN</td>\n      <td>NaN</td>\n    </tr>\n  </tbody>\n</table>\n<p>73 rows × 29 columns</p>\n</div>"
     },
     "execution_count": 8,
     "metadata": {},
     "output_type": "execute_result"
    }
   ],
   "source": [
    "df = pd.read_excel(\"Data/S1%20File.xlsx\")\n",
    "df\n"
   ],
   "metadata": {
    "collapsed": false,
    "ExecuteTime": {
     "end_time": "2023-11-25T09:14:15.662230469Z",
     "start_time": "2023-11-25T09:14:15.556071214Z"
    }
   }
  }
 ],
 "metadata": {
  "kernelspec": {
   "name": "python3",
   "language": "python",
   "display_name": "Python 3 (ipykernel)"
  },
  "language_info": {
   "codemirror_mode": {
    "name": "ipython",
    "version": 3
   },
   "file_extension": ".py",
   "mimetype": "text/x-python",
   "name": "python",
   "nbconvert_exporter": "python",
   "pygments_lexer": "ipython3",
   "version": "3.12.0"
  }
 },
 "nbformat": 4,
 "nbformat_minor": 4
}
